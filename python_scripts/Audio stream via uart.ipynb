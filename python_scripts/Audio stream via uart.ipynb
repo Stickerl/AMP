{
 "cells": [
  {
   "cell_type": "markdown",
   "metadata": {},
   "source": [
    "# Imports"
   ]
  },
  {
   "cell_type": "code",
   "execution_count": 2,
   "metadata": {
    "ExecuteTime": {
     "end_time": "2018-06-22T22:56:54.743383",
     "start_time": "2018-06-22T22:56:54.690380"
    }
   },
   "outputs": [],
   "source": [
    "import serial\n",
    "import time\n",
    "from pathlib import Path"
   ]
  },
  {
   "cell_type": "code",
   "execution_count": 3,
   "metadata": {
    "ExecuteTime": {
     "end_time": "2018-06-22T22:56:55.126405",
     "start_time": "2018-06-22T22:56:55.075402"
    }
   },
   "outputs": [],
   "source": [
    "import wave\n",
    "import pyaudio"
   ]
  },
  {
   "cell_type": "markdown",
   "metadata": {},
   "source": [
    "# Open Serial Port"
   ]
  },
  {
   "cell_type": "code",
   "execution_count": 4,
   "metadata": {},
   "outputs": [],
   "source": [
    "ser = serial.Serial('COM5', 1.5e6, timeout=0, parity=serial.PARITY_NONE) # the baudrate of the uart dongle in verry unprecise. 1.5MHz is matched verry good."
   ]
  },
  {
   "cell_type": "code",
   "execution_count": 8,
   "metadata": {},
   "outputs": [
    {
     "data": {
      "text/plain": [
       "Serial<id=0x293b51a50f0, open=True>(port='COM5', baudrate=1500000, bytesize=8, parity='N', stopbits=1, timeout=0, xonxoff=False, rtscts=False, dsrdtr=False)"
      ]
     },
     "execution_count": 8,
     "metadata": {},
     "output_type": "execute_result"
    }
   ],
   "source": [
    "ser"
   ]
  },
  {
   "cell_type": "code",
   "execution_count": 21,
   "metadata": {},
   "outputs": [
    {
     "data": {
      "text/plain": [
       "1"
      ]
     },
     "execution_count": 21,
     "metadata": {},
     "output_type": "execute_result"
    }
   ],
   "source": [
    "ser.write(bytes([0x03]))#b'U')"
   ]
  },
  {
   "cell_type": "markdown",
   "metadata": {},
   "source": [
    "## Loop sending bytes"
   ]
  },
  {
   "cell_type": "code",
   "execution_count": 5,
   "metadata": {
    "scrolled": true
   },
   "outputs": [
    {
     "ename": "KeyboardInterrupt",
     "evalue": "",
     "output_type": "error",
     "traceback": [
      "\u001b[1;31m---------------------------------------------------------------------------\u001b[0m",
      "\u001b[1;31mKeyboardInterrupt\u001b[0m                         Traceback (most recent call last)",
      "\u001b[1;32m<ipython-input-5-ccaec29febe4>\u001b[0m in \u001b[0;36m<module>\u001b[1;34m()\u001b[0m\n\u001b[0;32m      3\u001b[0m         \u001b[1;31m#print(byte)\u001b[0m\u001b[1;33m\u001b[0m\u001b[1;33m\u001b[0m\u001b[0m\n\u001b[0;32m      4\u001b[0m         \u001b[0mser\u001b[0m\u001b[1;33m.\u001b[0m\u001b[0mwrite\u001b[0m\u001b[1;33m(\u001b[0m\u001b[0mbytes\u001b[0m\u001b[1;33m(\u001b[0m\u001b[1;33m[\u001b[0m\u001b[0mbyte\u001b[0m\u001b[1;33m]\u001b[0m\u001b[1;33m)\u001b[0m\u001b[1;33m)\u001b[0m \u001b[1;31m#, 0x01, 0x7F, 0x3F, 0x0F,0xFF]))\u001b[0m\u001b[1;33m\u001b[0m\u001b[0m\n\u001b[1;32m----> 5\u001b[1;33m         \u001b[0mtime\u001b[0m\u001b[1;33m.\u001b[0m\u001b[0msleep\u001b[0m\u001b[1;33m(\u001b[0m\u001b[1;36m1e-2\u001b[0m\u001b[1;33m)\u001b[0m\u001b[1;33m\u001b[0m\u001b[0m\n\u001b[0m",
      "\u001b[1;31mKeyboardInterrupt\u001b[0m: "
     ]
    }
   ],
   "source": [
    "while(True):\n",
    "    for byte in range(0,0x100,1):\n",
    "        #print(byte)\n",
    "        ser.write(bytes([byte])) #, 0x01, 0x7F, 0x3F, 0x0F,0xFF]))\n",
    "        time.sleep(1e-2)"
   ]
  },
  {
   "cell_type": "code",
   "execution_count": 44,
   "metadata": {},
   "outputs": [
    {
     "data": {
      "text/plain": [
       "1"
      ]
     },
     "execution_count": 44,
     "metadata": {},
     "output_type": "execute_result"
    }
   ],
   "source": [
    "ser.write(bytes([0x7E]))"
   ]
  },
  {
   "cell_type": "code",
   "execution_count": null,
   "metadata": {
    "collapsed": true
   },
   "outputs": [],
   "source": [
    "ser.close()"
   ]
  },
  {
   "cell_type": "code",
   "execution_count": null,
   "metadata": {},
   "outputs": [],
   "source": [
    "while(True):\n",
    "    time.sleep(1)\n",
    "    ser.write(bytes([0x00, 0x77, 0x55]))"
   ]
  },
  {
   "cell_type": "markdown",
   "metadata": {},
   "source": [
    "## Feeding sent data back to sender"
   ]
  },
  {
   "cell_type": "code",
   "execution_count": null,
   "metadata": {
    "collapsed": true
   },
   "outputs": [],
   "source": []
  },
  {
   "cell_type": "markdown",
   "metadata": {},
   "source": [
    "# Open wav file"
   ]
  },
  {
   "cell_type": "code",
   "execution_count": 8,
   "metadata": {
    "ExecuteTime": {
     "end_time": "2018-06-22T22:57:01.332608",
     "start_time": "2018-06-22T22:57:01.312608"
    }
   },
   "outputs": [],
   "source": [
    "chunk_size = 1024  "
   ]
  },
  {
   "cell_type": "code",
   "execution_count": 9,
   "metadata": {
    "ExecuteTime": {
     "end_time": "2018-06-22T22:57:01.672609",
     "start_time": "2018-06-22T22:57:01.652609"
    }
   },
   "outputs": [],
   "source": [
    "wav_path = Path(r'D:\\Sicherungen\\Musik_Erwin\\Knaat')"
   ]
  },
  {
   "cell_type": "code",
   "execution_count": 10,
   "metadata": {
    "ExecuteTime": {
     "end_time": "2018-06-22T22:25:31.855921",
     "start_time": "2018-06-22T22:25:31.845921"
    }
   },
   "outputs": [],
   "source": [
    "wav = wave.open(f=str(wav_path / 'Finjark_Master_003.wav'), mode='rb')"
   ]
  },
  {
   "cell_type": "markdown",
   "metadata": {},
   "source": [
    "## Just play the song direcly in Python"
   ]
  },
  {
   "cell_type": "code",
   "execution_count": 13,
   "metadata": {
    "ExecuteTime": {
     "end_time": "2018-06-22T22:52:07.267474",
     "start_time": "2018-06-22T22:52:07.217474"
    }
   },
   "outputs": [
    {
     "ename": "KeyboardInterrupt",
     "evalue": "",
     "output_type": "error",
     "traceback": [
      "\u001b[1;31m---------------------------------------------------------------------------\u001b[0m",
      "\u001b[1;31mKeyboardInterrupt\u001b[0m                         Traceback (most recent call last)",
      "\u001b[1;32m<ipython-input-13-3eb6e5ee7fee>\u001b[0m in \u001b[0;36m<module>\u001b[1;34m()\u001b[0m\n\u001b[0;32m     10\u001b[0m \u001b[1;31m#play stream\u001b[0m\u001b[1;33m\u001b[0m\u001b[1;33m\u001b[0m\u001b[0m\n\u001b[0;32m     11\u001b[0m \u001b[1;32mwhile\u001b[0m \u001b[0mdata\u001b[0m\u001b[1;33m:\u001b[0m\u001b[1;33m\u001b[0m\u001b[0m\n\u001b[1;32m---> 12\u001b[1;33m     \u001b[0mstream\u001b[0m\u001b[1;33m.\u001b[0m\u001b[0mwrite\u001b[0m\u001b[1;33m(\u001b[0m\u001b[0mdata\u001b[0m\u001b[1;33m)\u001b[0m\u001b[1;33m\u001b[0m\u001b[0m\n\u001b[0m\u001b[0;32m     13\u001b[0m     \u001b[0mdata\u001b[0m \u001b[1;33m=\u001b[0m \u001b[0mwav\u001b[0m\u001b[1;33m.\u001b[0m\u001b[0mreadframes\u001b[0m\u001b[1;33m(\u001b[0m\u001b[0mchunk_size\u001b[0m\u001b[1;33m)\u001b[0m\u001b[1;33m\u001b[0m\u001b[0m\n",
      "\u001b[1;32mC:\\ProgramData\\Anaconda3\\lib\\site-packages\\pyaudio.py\u001b[0m in \u001b[0;36mwrite\u001b[1;34m(self, frames, num_frames, exception_on_underflow)\u001b[0m\n\u001b[0;32m    584\u001b[0m \u001b[1;33m\u001b[0m\u001b[0m\n\u001b[0;32m    585\u001b[0m         pa.write_stream(self._stream, frames, num_frames,\n\u001b[1;32m--> 586\u001b[1;33m                         exception_on_underflow)\n\u001b[0m\u001b[0;32m    587\u001b[0m \u001b[1;33m\u001b[0m\u001b[0m\n\u001b[0;32m    588\u001b[0m \u001b[1;33m\u001b[0m\u001b[0m\n",
      "\u001b[1;31mKeyboardInterrupt\u001b[0m: "
     ]
    }
   ],
   "source": [
    "p = pyaudio.PyAudio()  \n",
    "#open stream  \n",
    "stream = p.open(format = p.get_format_from_width(wav.getsampwidth()),  \n",
    "                channels = wav.getnchannels(),  \n",
    "                rate = wav.getframerate(),  \n",
    "                output = True)  \n",
    "#read data  \n",
    "data = wav.readframes(chunk_size)  \n",
    "\n",
    "#play stream  \n",
    "#while data:  \n",
    "#    stream.write(data)  \n",
    "#    data = wav.readframes(chunk_size) "
   ]
  },
  {
   "cell_type": "markdown",
   "metadata": {},
   "source": [
    "## Send Data of song via UART to PC and play it in Python"
   ]
  },
  {
   "cell_type": "code",
   "execution_count": 85,
   "metadata": {
    "ExecuteTime": {
     "end_time": "2018-06-23T00:31:08.543816",
     "start_time": "2018-06-23T00:31:08.513816"
    }
   },
   "outputs": [],
   "source": [
    "ser.close()\n",
    "ser = serial.Serial(port='COM5', baudrate=256e3, timeout=5, parity=serial.PARITY_NONE, stopbits=serial.STOPBITS_ONE)"
   ]
  },
  {
   "cell_type": "code",
   "execution_count": 114,
   "metadata": {
    "ExecuteTime": {
     "end_time": "2018-06-23T00:55:11.916847",
     "start_time": "2018-06-23T00:55:11.866847"
    }
   },
   "outputs": [
    {
     "data": {
      "text/plain": [
       "40"
      ]
     },
     "execution_count": 114,
     "metadata": {},
     "output_type": "execute_result"
    }
   ],
   "source": [
    "chunk_size = 20\n",
    "data = None\n",
    "wav = wave.open(f=str(wav_path / 'Finjark_Master_003.wav'), mode='rb')\n",
    "p = pyaudio.PyAudio()  \n",
    "#open stream  \n",
    "stream = p.open(format = p.get_format_from_width(wav.getsampwidth()),  \n",
    "                channels = wav.getnchannels(),  \n",
    "                rate = wav.getframerate(),  \n",
    "                output = True) \n",
    "\n",
    "ser.write(wav.readframes(chunk_size))\n",
    "#data = ser.read_all()\n",
    "\n",
    "#read data\n",
    "#while data:\n",
    "#    stream.write(data)\n",
    "#    ser.write(wav.readframes(chunk_size))\n",
    "#    data = ser.read_all()\n",
    "    \n",
    "\n",
    "\n",
    "#play stream  \n",
    "#while data:  \n",
    "#    stream.write(data)  \n",
    "#    data = wav.readframes(chunk_size) "
   ]
  },
  {
   "cell_type": "markdown",
   "metadata": {},
   "source": [
    "## Send bytes of wav and receive aknowledge"
   ]
  },
  {
   "cell_type": "code",
   "execution_count": 46,
   "metadata": {},
   "outputs": [],
   "source": [
    "wav_path = Path(r'D:\\Sicherungen\\Musik_Erwin\\Knaat')"
   ]
  },
  {
   "cell_type": "code",
   "execution_count": 47,
   "metadata": {
    "ExecuteTime": {
     "end_time": "2018-06-23T00:20:26.689633",
     "start_time": "2018-06-23T00:20:26.669633"
    }
   },
   "outputs": [],
   "source": [
    "def get_transmission_chunk(wav, chunk_size):\n",
    "    #frame = b'\\x7E' + \\\n",
    "    frame = wav.readframes(chunk_size).replace(b'\\x7D', b'\\x7D\\x5D') \\\n",
    "                                      .replace(b'\\x7E', b'\\x7D\\x5E') \\\n",
    "            + b'\\x7E'\n",
    "    return frame"
   ]
  },
  {
   "cell_type": "code",
   "execution_count": 49,
   "metadata": {
    "ExecuteTime": {
     "end_time": "2018-06-23T01:10:22.923123",
     "start_time": "2018-06-23T01:06:28.591795"
    },
    "scrolled": true
   },
   "outputs": [
    {
     "ename": "KeyboardInterrupt",
     "evalue": "",
     "output_type": "error",
     "traceback": [
      "\u001b[1;31m---------------------------------------------------------------------------\u001b[0m",
      "\u001b[1;31mKeyboardInterrupt\u001b[0m                         Traceback (most recent call last)",
      "\u001b[1;32m<ipython-input-49-ebf5892b84fc>\u001b[0m in \u001b[0;36m<module>\u001b[1;34m()\u001b[0m\n\u001b[0;32m     22\u001b[0m \u001b[1;32mwhile\u001b[0m \u001b[0mframe\u001b[0m\u001b[1;33m:\u001b[0m\u001b[1;33m\u001b[0m\u001b[0m\n\u001b[0;32m     23\u001b[0m     \u001b[1;32mif\u001b[0m \u001b[0mfree_mem\u001b[0m \u001b[1;33m>\u001b[0m \u001b[1;36m0\u001b[0m\u001b[1;33m:\u001b[0m\u001b[1;33m\u001b[0m\u001b[0m\n\u001b[1;32m---> 24\u001b[1;33m         \u001b[0mser\u001b[0m\u001b[1;33m.\u001b[0m\u001b[0mwrite\u001b[0m\u001b[1;33m(\u001b[0m\u001b[0mframe\u001b[0m\u001b[1;33m)\u001b[0m\u001b[1;33m\u001b[0m\u001b[0m\n\u001b[0m\u001b[0;32m     25\u001b[0m         \u001b[0mtime\u001b[0m\u001b[1;33m.\u001b[0m\u001b[0msleep\u001b[0m\u001b[1;33m(\u001b[0m\u001b[1;36m1e-3\u001b[0m\u001b[1;33m)\u001b[0m\u001b[1;33m\u001b[0m\u001b[0m\n\u001b[0;32m     26\u001b[0m         \u001b[0mrec\u001b[0m \u001b[1;33m=\u001b[0m \u001b[0mser\u001b[0m\u001b[1;33m.\u001b[0m\u001b[0mread\u001b[0m\u001b[1;33m(\u001b[0m\u001b[0mresponse_size\u001b[0m\u001b[1;33m)\u001b[0m\u001b[1;33m.\u001b[0m\u001b[0mhex\u001b[0m\u001b[1;33m(\u001b[0m\u001b[1;33m)\u001b[0m\u001b[1;33m\u001b[0m\u001b[0m\n",
      "\u001b[1;32mC:\\ProgramData\\Anaconda3\\lib\\site-packages\\serial\\serialwin32.py\u001b[0m in \u001b[0;36mwrite\u001b[1;34m(self, data)\u001b[0m\n\u001b[0;32m    317\u001b[0m                 \u001b[1;31m# Wait for the write to complete.\u001b[0m\u001b[1;33m\u001b[0m\u001b[1;33m\u001b[0m\u001b[0m\n\u001b[0;32m    318\u001b[0m                 \u001b[1;31m#~ win32.WaitForSingleObject(self._overlapped_write.hEvent, win32.INFINITE)\u001b[0m\u001b[1;33m\u001b[0m\u001b[1;33m\u001b[0m\u001b[0m\n\u001b[1;32m--> 319\u001b[1;33m                 \u001b[0mwin32\u001b[0m\u001b[1;33m.\u001b[0m\u001b[0mGetOverlappedResult\u001b[0m\u001b[1;33m(\u001b[0m\u001b[0mself\u001b[0m\u001b[1;33m.\u001b[0m\u001b[0m_port_handle\u001b[0m\u001b[1;33m,\u001b[0m \u001b[0mself\u001b[0m\u001b[1;33m.\u001b[0m\u001b[0m_overlapped_write\u001b[0m\u001b[1;33m,\u001b[0m \u001b[0mctypes\u001b[0m\u001b[1;33m.\u001b[0m\u001b[0mbyref\u001b[0m\u001b[1;33m(\u001b[0m\u001b[0mn\u001b[0m\u001b[1;33m)\u001b[0m\u001b[1;33m,\u001b[0m \u001b[1;32mTrue\u001b[0m\u001b[1;33m)\u001b[0m\u001b[1;33m\u001b[0m\u001b[0m\n\u001b[0m\u001b[0;32m    320\u001b[0m                 \u001b[1;32mif\u001b[0m \u001b[0mwin32\u001b[0m\u001b[1;33m.\u001b[0m\u001b[0mGetLastError\u001b[0m\u001b[1;33m(\u001b[0m\u001b[1;33m)\u001b[0m \u001b[1;33m==\u001b[0m \u001b[0mwin32\u001b[0m\u001b[1;33m.\u001b[0m\u001b[0mERROR_OPERATION_ABORTED\u001b[0m\u001b[1;33m:\u001b[0m\u001b[1;33m\u001b[0m\u001b[0m\n\u001b[0;32m    321\u001b[0m                     \u001b[1;32mreturn\u001b[0m \u001b[0mn\u001b[0m\u001b[1;33m.\u001b[0m\u001b[0mvalue\u001b[0m  \u001b[1;31m# canceled IO is no error\u001b[0m\u001b[1;33m\u001b[0m\u001b[0m\n",
      "\u001b[1;31mKeyboardInterrupt\u001b[0m: "
     ]
    }
   ],
   "source": [
    "free_mem = 0\n",
    "response_size = 2\n",
    "\n",
    "wav = wave.open(f=str(wav_path / 'Finjark_Master_003.wav'), mode='rb')\n",
    "p = pyaudio.PyAudio()  \n",
    "#open stream  \n",
    "stream = p.open(format = p.get_format_from_width(wav.getsampwidth()),  \n",
    "                channels = wav.getnchannels(),  \n",
    "                rate = wav.getframerate(),  \n",
    "                output = True) \n",
    "\n",
    "\n",
    "ser.write(b'\\x7E')\n",
    "time.sleep(1e-3)\n",
    "rec = ser.read(response_size).hex()\n",
    "if rec == '':\n",
    "    raise TimeoutError('Timout reached')\n",
    "free_mem = int(rec, 16)\n",
    "frame = get_transmission_chunk(wav=wav, chunk_size=free_mem // wav.getsampwidth())\n",
    "\n",
    "#read data\n",
    "while frame:\n",
    "    if free_mem > 0:\n",
    "        ser.write(frame)\n",
    "        time.sleep(1e-3)\n",
    "        rec = ser.read(response_size).hex()\n",
    "        if rec == '':\n",
    "            raise TimeoutError('Timout reached')\n",
    "        free_mem = int(rec, 16)\n",
    "        frame = get_transmission_chunk(wav=wav, chunk_size=free_mem // wav.getsampwidth())\n",
    "    else:\n",
    "        print('FPGA Buffer full!!')\n",
    "        time.sleep(5e-3)\n",
    "        ser.write(b'\\x7E')\n",
    "        time.sleep(1e-3)\n",
    "        rec = ser.read(response_size).hex()\n",
    "        if rec == '':\n",
    "            raise TimeoutError('Timout reached')\n",
    "        free_mem = int(rec, 16)"
   ]
  },
  {
   "cell_type": "code",
   "execution_count": 40,
   "metadata": {
    "ExecuteTime": {
     "end_time": "2018-06-22T22:50:08.897309",
     "start_time": "2018-06-22T22:50:08.817309"
    }
   },
   "outputs": [],
   "source": [
    "for byte in range(0,0x100,1):\n",
    "    ser.write(bytes([byte]))"
   ]
  },
  {
   "cell_type": "code",
   "execution_count": 82,
   "metadata": {
    "ExecuteTime": {
     "end_time": "2018-06-23T00:22:36.769815",
     "start_time": "2018-06-23T00:22:36.749815"
    }
   },
   "outputs": [
    {
     "data": {
      "text/plain": [
       "9879552"
      ]
     },
     "execution_count": 82,
     "metadata": {},
     "output_type": "execute_result"
    }
   ],
   "source": [
    "wav.getnframes()"
   ]
  },
  {
   "cell_type": "markdown",
   "metadata": {},
   "source": [
    "# Get decoded mp3 data"
   ]
  },
  {
   "cell_type": "markdown",
   "metadata": {
    "collapsed": true
   },
   "source": [
    "# Debug"
   ]
  },
  {
   "cell_type": "code",
   "execution_count": 95,
   "metadata": {
    "ExecuteTime": {
     "end_time": "2018-06-23T00:35:55.200220",
     "start_time": "2018-06-23T00:35:55.180220"
    },
    "collapsed": true
   },
   "outputs": [],
   "source": [
    "a = b'\\x7E\\x7D'"
   ]
  },
  {
   "cell_type": "code",
   "execution_count": 99,
   "metadata": {
    "ExecuteTime": {
     "end_time": "2018-06-23T00:36:50.561298",
     "start_time": "2018-06-23T00:36:50.541298"
    }
   },
   "outputs": [
    {
     "data": {
      "text/plain": [
       "32381"
      ]
     },
     "execution_count": 99,
     "metadata": {},
     "output_type": "execute_result"
    }
   ],
   "source": [
    "int(a.hex(), 16)"
   ]
  },
  {
   "cell_type": "code",
   "execution_count": 62,
   "metadata": {
    "ExecuteTime": {
     "end_time": "2018-06-22T23:54:19.049438",
     "start_time": "2018-06-22T23:54:19.019438"
    }
   },
   "outputs": [
    {
     "data": {
      "text/plain": [
       "'7d5e7d5d'"
      ]
     },
     "execution_count": 62,
     "metadata": {},
     "output_type": "execute_result"
    }
   ],
   "source": [
    "a.replace(b'\\x7D', b'\\x7D\\x5D').replace(b'\\x7E', b'\\x7D\\x5E').hex()"
   ]
  },
  {
   "cell_type": "code",
   "execution_count": 55,
   "metadata": {
    "ExecuteTime": {
     "end_time": "2018-06-22T23:50:30.219118",
     "start_time": "2018-06-22T23:50:30.189118"
    }
   },
   "outputs": [
    {
     "data": {
      "text/plain": [
       "bytes"
      ]
     },
     "execution_count": 55,
     "metadata": {},
     "output_type": "execute_result"
    }
   ],
   "source": [
    "type(wav.readframes(chunk_size))"
   ]
  },
  {
   "cell_type": "code",
   "execution_count": 83,
   "metadata": {
    "ExecuteTime": {
     "end_time": "2018-06-23T00:26:10.652115",
     "start_time": "2018-06-23T00:26:10.622115"
    }
   },
   "outputs": [
    {
     "data": {
      "text/plain": [
       "0"
      ]
     },
     "execution_count": 83,
     "metadata": {},
     "output_type": "execute_result"
    }
   ],
   "source": [
    "ser.timeout"
   ]
  },
  {
   "cell_type": "code",
   "execution_count": 73,
   "metadata": {
    "ExecuteTime": {
     "end_time": "2018-06-23T00:03:55.334245",
     "start_time": "2018-06-23T00:03:55.304245"
    }
   },
   "outputs": [
    {
     "data": {
      "text/plain": [
       "'7e000000000000000000000000000000000000000000000000000000000000000000000000000000000000000000000000000000000000000000000000000000000000000000000000000000000000000000000000000000000000000000000000000000000000000000000000000000000000000000000000000000000000000000000000000000000000000000000000000000000000000000000000000000000000000000000000000000000000000000000000000000000000000000000000000000000000000000000000000000000000000000000000000000000000000000000000000000000000000000000000000000000000000000000000000000000000000000000000000000000000000000000000000000000000000000000000000000000000000000000000000000000000000000000000000000000000000000000000000000000000000000000000000000000000000000000000000000000000000000000000000000000000000000000000000000000000000000000000000000000000000000000000000000000000000000000000000000000000000000000000000000000000000000000000000000000000000000000000000000000000000000000000000000000000000000000000000000000000000000000000000000000000000000000000000000000000000000000000000000000000000000000000000000000000000000000000000000000000000000000000000000000000000000000000000000000000000000000000000000000000000000000000000000000000000000000000000000000000000000000000000000000000000000000000000000000000000000000000000000000000000000000000000000000000000000000000000000000000000000000000000000000000000000000000000000000000000000000000000000000000000000000000000000000000000000000000000000000000000000000000000000000000000000000000000000000000000000000000000000000000000000000000000000000000000000000000000000000000000000000000000000000000000000000000000000000000000000000000000000000000000000000000000000000000000000000000000000000000000000000000000000000000000000000000000000000000000000000000000000000000000000000000000000000000000000000000000000000000000000000000000000000000000000000000000000000000000000000000000000000000000000000000000000000000000000000000000000000000000000000000000000000000000000000000000000000000000000000000000000000000000000000000000000000000000000000000000000000000000000000000000000007e'"
      ]
     },
     "execution_count": 73,
     "metadata": {},
     "output_type": "execute_result"
    }
   ],
   "source": [
    "(b'\\x7E' + wav.readframes(chunk_size).replace(b'\\x7D', b'\\x7D\\x5D').replace(b'\\x7E', b'\\x7D\\x5E') + b'\\x7E').hex()"
   ]
  },
  {
   "cell_type": "code",
   "execution_count": 18,
   "metadata": {},
   "outputs": [],
   "source": [
    "ser.close()"
   ]
  },
  {
   "cell_type": "code",
   "execution_count": 50,
   "metadata": {},
   "outputs": [
    {
     "data": {
      "text/plain": [
       "<wave.Wave_read at 0x293b5529048>"
      ]
     },
     "execution_count": 50,
     "metadata": {},
     "output_type": "execute_result"
    }
   ],
   "source": [
    "wav."
   ]
  }
 ],
 "metadata": {
  "kernelspec": {
   "display_name": "Python 3",
   "language": "python",
   "name": "python3"
  },
  "language_info": {
   "codemirror_mode": {
    "name": "ipython",
    "version": 3
   },
   "file_extension": ".py",
   "mimetype": "text/x-python",
   "name": "python",
   "nbconvert_exporter": "python",
   "pygments_lexer": "ipython3",
   "version": "3.6.4"
  },
  "nav_menu": {},
  "toc": {
   "navigate_menu": true,
   "number_sections": true,
   "sideBar": true,
   "threshold": 6,
   "toc_cell": false,
   "toc_section_display": "block",
   "toc_window_display": true
  },
  "toc_position": {
   "height": "679px",
   "left": "0px",
   "right": "1250px",
   "top": "107px",
   "width": "350px"
  }
 },
 "nbformat": 4,
 "nbformat_minor": 2
}
