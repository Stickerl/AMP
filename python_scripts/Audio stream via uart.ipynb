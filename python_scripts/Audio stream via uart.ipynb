{
 "cells": [
  {
   "cell_type": "markdown",
   "metadata": {
    "toc": "true"
   },
   "source": [
    "<h1>Table of Contents<span class=\"tocSkip\"></span></h1>\n",
    "<div class=\"toc\"><ul class=\"toc-item\"><li><span><a href=\"#Imports\" data-toc-modified-id=\"Imports-1\"><span class=\"toc-item-num\">1&nbsp;&nbsp;</span>Imports</a></span></li><li><span><a href=\"#Open-Serial-Port\" data-toc-modified-id=\"Open-Serial-Port-2\"><span class=\"toc-item-num\">2&nbsp;&nbsp;</span>Open Serial Port</a></span><ul class=\"toc-item\"><li><span><a href=\"#Loop-sending-bytes\" data-toc-modified-id=\"Loop-sending-bytes-2.1\"><span class=\"toc-item-num\">2.1&nbsp;&nbsp;</span>Loop sending bytes</a></span></li><li><span><a href=\"#Send-bytes-in-HDLC-in-a-loop\" data-toc-modified-id=\"Send-bytes-in-HDLC-in-a-loop-2.2\"><span class=\"toc-item-num\">2.2&nbsp;&nbsp;</span>Send bytes in HDLC in a loop</a></span></li></ul></li><li><span><a href=\"#Open-wav-file\" data-toc-modified-id=\"Open-wav-file-3\"><span class=\"toc-item-num\">3&nbsp;&nbsp;</span>Open wav file</a></span><ul class=\"toc-item\"><li><span><a href=\"#Just-play-the-song-direcly-in-Python\" data-toc-modified-id=\"Just-play-the-song-direcly-in-Python-3.1\"><span class=\"toc-item-num\">3.1&nbsp;&nbsp;</span>Just play the song direcly in Python</a></span></li><li><span><a href=\"#Send-Data-of-song-via-UART-to-PC-and-play-it-in-Python\" data-toc-modified-id=\"Send-Data-of-song-via-UART-to-PC-and-play-it-in-Python-3.2\"><span class=\"toc-item-num\">3.2&nbsp;&nbsp;</span>Send Data of song via UART to PC and play it in Python</a></span></li><li><span><a href=\"#Send-bytes-of-wav-and-receive-aknowledge\" data-toc-modified-id=\"Send-bytes-of-wav-and-receive-aknowledge-3.3\"><span class=\"toc-item-num\">3.3&nbsp;&nbsp;</span>Send bytes of wav and receive aknowledge</a></span></li></ul></li><li><span><a href=\"#Get-decoded-mp3-data\" data-toc-modified-id=\"Get-decoded-mp3-data-4\"><span class=\"toc-item-num\">4&nbsp;&nbsp;</span>Get decoded mp3 data</a></span></li><li><span><a href=\"#Check-consistency-of-sent-data\" data-toc-modified-id=\"Check-consistency-of-sent-data-5\"><span class=\"toc-item-num\">5&nbsp;&nbsp;</span>Check consistency of sent data</a></span><ul class=\"toc-item\"><li><span><a href=\"#Function-Definitions\" data-toc-modified-id=\"Function-Definitions-5.1\"><span class=\"toc-item-num\">5.1&nbsp;&nbsp;</span>Function Definitions</a></span></li></ul></li><li><span><a href=\"#Debug\" data-toc-modified-id=\"Debug-6\"><span class=\"toc-item-num\">6&nbsp;&nbsp;</span>Debug</a></span></li></ul></div>"
   ]
  },
  {
   "cell_type": "markdown",
   "metadata": {},
   "source": [
    "# Imports"
   ]
  },
  {
   "cell_type": "code",
   "execution_count": 1,
   "metadata": {
    "ExecuteTime": {
     "end_time": "2020-04-03T18:24:56.737212Z",
     "start_time": "2020-04-03T18:24:56.720223Z"
    }
   },
   "outputs": [],
   "source": [
    "import serial\n",
    "import time\n",
    "from pathlib import Path"
   ]
  },
  {
   "cell_type": "code",
   "execution_count": 2,
   "metadata": {
    "ExecuteTime": {
     "end_time": "2020-04-03T18:24:58.481260Z",
     "start_time": "2020-04-03T18:24:58.446283Z"
    }
   },
   "outputs": [],
   "source": [
    "import wave\n",
    "import pyaudio"
   ]
  },
  {
   "cell_type": "code",
   "execution_count": 3,
   "metadata": {
    "ExecuteTime": {
     "end_time": "2020-04-03T18:25:02.244799Z",
     "start_time": "2020-04-03T18:24:59.052060Z"
    }
   },
   "outputs": [],
   "source": [
    "import numpy as np\n",
    "import pandas as pd"
   ]
  },
  {
   "cell_type": "markdown",
   "metadata": {},
   "source": [
    "# Open Serial Port"
   ]
  },
  {
   "cell_type": "code",
   "execution_count": 4,
   "metadata": {
    "ExecuteTime": {
     "end_time": "2020-04-03T18:25:04.180127Z",
     "start_time": "2020-04-03T18:25:04.140055Z"
    }
   },
   "outputs": [],
   "source": [
    "ser = serial.Serial('COM5', 1.5e6, timeout=0, parity=serial.PARITY_NONE) # the baudrate of the uart dongle in verry unprecise. 1.5MHz is matched verry good."
   ]
  },
  {
   "cell_type": "code",
   "execution_count": 73,
   "metadata": {
    "ExecuteTime": {
     "end_time": "2020-03-22T20:50:20.923351Z",
     "start_time": "2020-03-22T20:50:20.919354Z"
    },
    "collapsed": true
   },
   "outputs": [],
   "source": [
    "ser.close()"
   ]
  },
  {
   "cell_type": "code",
   "execution_count": 11,
   "metadata": {
    "ExecuteTime": {
     "end_time": "2020-03-13T21:32:04.783216",
     "start_time": "2020-03-13T21:32:04.752016"
    }
   },
   "outputs": [
    {
     "data": {
      "text/plain": [
       "1"
      ]
     },
     "execution_count": 11,
     "metadata": {},
     "output_type": "execute_result"
    }
   ],
   "source": [
    "ser.write(bytes([0x03]))#b'U')"
   ]
  },
  {
   "cell_type": "markdown",
   "metadata": {},
   "source": [
    "## Loop sending bytes"
   ]
  },
  {
   "cell_type": "code",
   "execution_count": 15,
   "metadata": {
    "ExecuteTime": {
     "end_time": "2020-03-13T21:39:28.719303",
     "start_time": "2020-03-13T21:37:20.971177"
    },
    "scrolled": true
   },
   "outputs": [
    {
     "ename": "KeyboardInterrupt",
     "evalue": "",
     "output_type": "error",
     "traceback": [
      "\u001b[1;31m---------------------------------------------------------------------------\u001b[0m",
      "\u001b[1;31mKeyboardInterrupt\u001b[0m                         Traceback (most recent call last)",
      "\u001b[1;32m<ipython-input-15-15886875dba6>\u001b[0m in \u001b[0;36m<module>\u001b[1;34m()\u001b[0m\n\u001b[0;32m      3\u001b[0m         \u001b[1;31m#print(byte)\u001b[0m\u001b[1;33m\u001b[0m\u001b[1;33m\u001b[0m\u001b[0m\n\u001b[0;32m      4\u001b[0m         \u001b[0mser\u001b[0m\u001b[1;33m.\u001b[0m\u001b[0mwrite\u001b[0m\u001b[1;33m(\u001b[0m\u001b[0mbytes\u001b[0m\u001b[1;33m(\u001b[0m\u001b[1;33m[\u001b[0m\u001b[0mbyte\u001b[0m\u001b[1;33m]\u001b[0m\u001b[1;33m)\u001b[0m\u001b[1;33m)\u001b[0m \u001b[1;31m#, 0x01, 0x7F, 0x3F, 0x0F,0xFF]))\u001b[0m\u001b[1;33m\u001b[0m\u001b[0m\n\u001b[1;32m----> 5\u001b[1;33m         \u001b[0mtime\u001b[0m\u001b[1;33m.\u001b[0m\u001b[0msleep\u001b[0m\u001b[1;33m(\u001b[0m\u001b[1;36m1e-2\u001b[0m\u001b[1;33m)\u001b[0m\u001b[1;33m\u001b[0m\u001b[0m\n\u001b[0m",
      "\u001b[1;31mKeyboardInterrupt\u001b[0m: "
     ]
    }
   ],
   "source": [
    "while(True):\n",
    "    for byte in range(0,0x100,1):\n",
    "        #print(byte)\n",
    "        ser.write(bytes([byte])) #, 0x01, 0x7F, 0x3F, 0x0F,0xFF]))\n",
    "        time.sleep(1e-2)"
   ]
  },
  {
   "cell_type": "code",
   "execution_count": 26,
   "metadata": {
    "ExecuteTime": {
     "end_time": "2020-03-13T21:41:13.076987",
     "start_time": "2020-03-13T21:41:13.061387"
    }
   },
   "outputs": [
    {
     "data": {
      "text/plain": [
       "1"
      ]
     },
     "execution_count": 26,
     "metadata": {},
     "output_type": "execute_result"
    }
   ],
   "source": [
    "ser.write(bytes([0x7E]))"
   ]
  },
  {
   "cell_type": "code",
   "execution_count": 27,
   "metadata": {
    "ExecuteTime": {
     "end_time": "2020-03-13T21:41:15.479391",
     "start_time": "2020-03-13T21:41:15.448191"
    }
   },
   "outputs": [
    {
     "data": {
      "text/plain": [
       "b'\\x0f\\xfe'"
      ]
     },
     "execution_count": 27,
     "metadata": {},
     "output_type": "execute_result"
    }
   ],
   "source": [
    "ser.read_all()"
   ]
  },
  {
   "cell_type": "code",
   "execution_count": null,
   "metadata": {
    "collapsed": true
   },
   "outputs": [],
   "source": [
    "ser.close()"
   ]
  },
  {
   "cell_type": "code",
   "execution_count": null,
   "metadata": {
    "collapsed": true
   },
   "outputs": [],
   "source": [
    "while(True):\n",
    "    time.sleep(1)\n",
    "    ser.write(bytes([0x00, 0x77, 0x55]))"
   ]
  },
  {
   "cell_type": "markdown",
   "metadata": {},
   "source": [
    "## Send bytes in HDLC in a loop"
   ]
  },
  {
   "cell_type": "code",
   "execution_count": 44,
   "metadata": {
    "ExecuteTime": {
     "end_time": "2020-04-03T21:48:32.334793Z",
     "start_time": "2020-04-03T21:48:32.329796Z"
    }
   },
   "outputs": [],
   "source": [
    "def create_hdlc_frame(data):\n",
    "    if type(data) != bytearray:\n",
    "        msg = \"Unexpected data type. Received {}, but expected 'bytearray'\".format(type(data))\n",
    "    \n",
    "    frame = b'\\x7E' + \\\n",
    "            data.replace(b'\\x7D', b'\\x7D\\x5D') \\\n",
    "                .replace(b'\\x7E', b'\\x7D\\x5E') \\\n",
    "            + b'\\x7E'\n",
    "            \n",
    "    return frame"
   ]
  },
  {
   "cell_type": "code",
   "execution_count": 48,
   "metadata": {
    "ExecuteTime": {
     "end_time": "2020-04-03T21:50:15.131195Z",
     "start_time": "2020-04-03T21:50:15.127197Z"
    }
   },
   "outputs": [],
   "source": [
    "data_little_endian = (np.arange(start=0x30, stop=0x40, step=1,dtype=np.int16()))"
   ]
  },
  {
   "cell_type": "code",
   "execution_count": 49,
   "metadata": {
    "ExecuteTime": {
     "end_time": "2020-04-03T21:50:16.011028Z",
     "start_time": "2020-04-03T21:50:16.008030Z"
    }
   },
   "outputs": [
    {
     "data": {
      "text/plain": [
       "b'0\\x001\\x002\\x003\\x004\\x005\\x006\\x007\\x008\\x009\\x00:\\x00;\\x00<\\x00=\\x00>\\x00?\\x00'"
      ]
     },
     "execution_count": 49,
     "metadata": {},
     "output_type": "execute_result"
    }
   ],
   "source": [
    "bytes(data_little_endian)"
   ]
  },
  {
   "cell_type": "code",
   "execution_count": 50,
   "metadata": {
    "ExecuteTime": {
     "end_time": "2020-04-03T21:50:17.274942Z",
     "start_time": "2020-04-03T21:50:17.270944Z"
    }
   },
   "outputs": [
    {
     "data": {
      "text/plain": [
       "b'\\x000\\x001\\x002\\x003\\x004\\x005\\x006\\x007\\x008\\x009\\x00:\\x00;\\x00<\\x00=\\x00>\\x00?'"
      ]
     },
     "execution_count": 50,
     "metadata": {},
     "output_type": "execute_result"
    }
   ],
   "source": [
    "data_big_endian = bytes(data_little_endian.astype('>i2'))\n",
    "data_big_endian"
   ]
  },
  {
   "cell_type": "code",
   "execution_count": 3,
   "metadata": {
    "ExecuteTime": {
     "end_time": "2020-03-22T16:06:24.630565Z",
     "start_time": "2020-03-22T16:06:24.626567Z"
    },
    "collapsed": true
   },
   "outputs": [],
   "source": [
    "#data = bytes(np.arange(start=0x39, stop=0x30, step=-1,dtype=np.int16()))"
   ]
  },
  {
   "cell_type": "code",
   "execution_count": 144,
   "metadata": {
    "ExecuteTime": {
     "end_time": "2020-03-13T23:42:28.375794",
     "start_time": "2020-03-13T23:42:28.344594"
    },
    "collapsed": true
   },
   "outputs": [],
   "source": [
    "#data = bytes(np.arange(start=0x39, stop=0x30, step=-1,dtype=np.int16()))"
   ]
  },
  {
   "cell_type": "code",
   "execution_count": 51,
   "metadata": {
    "ExecuteTime": {
     "end_time": "2020-04-03T21:50:29.100689Z",
     "start_time": "2020-04-03T21:50:29.095693Z"
    }
   },
   "outputs": [],
   "source": [
    "hdlc_frame = create_hdlc_frame(data=data_big_endian)\n",
    "#hdlc_frame = create_hdlc_frame(data=bytes(np.arange(start=0x01, stop=0x03, step=1,dtype=np.int16()).astype('>i2')))"
   ]
  },
  {
   "cell_type": "code",
   "execution_count": 52,
   "metadata": {
    "ExecuteTime": {
     "end_time": "2020-04-03T21:50:32.121823Z",
     "start_time": "2020-04-03T21:50:32.119823Z"
    }
   },
   "outputs": [
    {
     "data": {
      "text/plain": [
       "b'~\\x000\\x001\\x002\\x003\\x004\\x005\\x006\\x007\\x008\\x009\\x00:\\x00;\\x00<\\x00=\\x00>\\x00?~'"
      ]
     },
     "execution_count": 52,
     "metadata": {},
     "output_type": "execute_result"
    }
   ],
   "source": [
    "hdlc_frame"
   ]
  },
  {
   "cell_type": "code",
   "execution_count": 54,
   "metadata": {
    "ExecuteTime": {
     "end_time": "2020-04-03T21:56:05.676157Z",
     "start_time": "2020-04-03T21:51:55.047954Z"
    }
   },
   "outputs": [
    {
     "ename": "KeyboardInterrupt",
     "evalue": "",
     "output_type": "error",
     "traceback": [
      "\u001b[1;31m---------------------------------------------------------------------------\u001b[0m",
      "\u001b[1;31mKeyboardInterrupt\u001b[0m                         Traceback (most recent call last)",
      "\u001b[1;32m<ipython-input-54-8a5f2b8db922>\u001b[0m in \u001b[0;36m<module>\u001b[1;34m()\u001b[0m\n\u001b[0;32m      1\u001b[0m \u001b[1;32mwhile\u001b[0m\u001b[1;33m(\u001b[0m\u001b[1;36m1\u001b[0m\u001b[1;33m)\u001b[0m\u001b[1;33m:\u001b[0m\u001b[1;33m\u001b[0m\u001b[0m\n\u001b[1;32m----> 2\u001b[1;33m     \u001b[0mser\u001b[0m\u001b[1;33m.\u001b[0m\u001b[0mwrite\u001b[0m\u001b[1;33m(\u001b[0m\u001b[0mhdlc_frame\u001b[0m\u001b[1;33m)\u001b[0m\u001b[1;33m\u001b[0m\u001b[0m\n\u001b[0m\u001b[0;32m      3\u001b[0m     \u001b[0mser\u001b[0m\u001b[1;33m.\u001b[0m\u001b[0mread_all\u001b[0m\u001b[1;33m(\u001b[0m\u001b[1;33m)\u001b[0m\u001b[1;33m\u001b[0m\u001b[0m\n",
      "\u001b[1;32mC:\\ProgramData\\Anaconda3\\lib\\site-packages\\serial\\serialwin32.py\u001b[0m in \u001b[0;36mwrite\u001b[1;34m(self, data)\u001b[0m\n\u001b[0;32m    317\u001b[0m                 \u001b[1;31m# Wait for the write to complete.\u001b[0m\u001b[1;33m\u001b[0m\u001b[1;33m\u001b[0m\u001b[0m\n\u001b[0;32m    318\u001b[0m                 \u001b[1;31m#~ win32.WaitForSingleObject(self._overlapped_write.hEvent, win32.INFINITE)\u001b[0m\u001b[1;33m\u001b[0m\u001b[1;33m\u001b[0m\u001b[0m\n\u001b[1;32m--> 319\u001b[1;33m                 \u001b[0mwin32\u001b[0m\u001b[1;33m.\u001b[0m\u001b[0mGetOverlappedResult\u001b[0m\u001b[1;33m(\u001b[0m\u001b[0mself\u001b[0m\u001b[1;33m.\u001b[0m\u001b[0m_port_handle\u001b[0m\u001b[1;33m,\u001b[0m \u001b[0mself\u001b[0m\u001b[1;33m.\u001b[0m\u001b[0m_overlapped_write\u001b[0m\u001b[1;33m,\u001b[0m \u001b[0mctypes\u001b[0m\u001b[1;33m.\u001b[0m\u001b[0mbyref\u001b[0m\u001b[1;33m(\u001b[0m\u001b[0mn\u001b[0m\u001b[1;33m)\u001b[0m\u001b[1;33m,\u001b[0m \u001b[1;32mTrue\u001b[0m\u001b[1;33m)\u001b[0m\u001b[1;33m\u001b[0m\u001b[0m\n\u001b[0m\u001b[0;32m    320\u001b[0m                 \u001b[1;32mif\u001b[0m \u001b[0mwin32\u001b[0m\u001b[1;33m.\u001b[0m\u001b[0mGetLastError\u001b[0m\u001b[1;33m(\u001b[0m\u001b[1;33m)\u001b[0m \u001b[1;33m==\u001b[0m \u001b[0mwin32\u001b[0m\u001b[1;33m.\u001b[0m\u001b[0mERROR_OPERATION_ABORTED\u001b[0m\u001b[1;33m:\u001b[0m\u001b[1;33m\u001b[0m\u001b[0m\n\u001b[0;32m    321\u001b[0m                     \u001b[1;32mreturn\u001b[0m \u001b[0mn\u001b[0m\u001b[1;33m.\u001b[0m\u001b[0mvalue\u001b[0m  \u001b[1;31m# canceled IO is no error\u001b[0m\u001b[1;33m\u001b[0m\u001b[0m\n",
      "\u001b[1;31mKeyboardInterrupt\u001b[0m: "
     ]
    }
   ],
   "source": [
    "while(1):\n",
    "    ser.write(hdlc_frame)\n",
    "    ser.read_all()"
   ]
  },
  {
   "cell_type": "code",
   "execution_count": null,
   "metadata": {
    "collapsed": true
   },
   "outputs": [],
   "source": [
    "ser.write(hdlc_frame)\n",
    "ser.read_all()"
   ]
  },
  {
   "cell_type": "code",
   "execution_count": 36,
   "metadata": {
    "ExecuteTime": {
     "end_time": "2020-03-13T22:07:00.612425",
     "start_time": "2020-03-13T22:07:00.581225"
    }
   },
   "outputs": [
    {
     "data": {
      "text/plain": [
       "b'\\x00\\x00\\x01\\x00\\x02\\x00\\x03\\x00\\x04\\x00\\x05\\x00\\x06\\x00\\x07\\x00\\x08\\x00\\t\\x00\\n\\x00\\x0b\\x00\\x0c\\x00\\r\\x00\\x0e\\x00\\x0f\\x00'"
      ]
     },
     "execution_count": 36,
     "metadata": {},
     "output_type": "execute_result"
    }
   ],
   "source": [
    "data = bytes(np.arange(start=0, stop=0x10, step=1,dtype=np.int16), )"
   ]
  },
  {
   "cell_type": "code",
   "execution_count": 31,
   "metadata": {
    "ExecuteTime": {
     "end_time": "2020-03-13T22:04:01.614508",
     "start_time": "2020-03-13T22:04:01.567708"
    }
   },
   "outputs": [
    {
     "ename": "ValueError",
     "evalue": "byte must be in range(0, 256)",
     "output_type": "error",
     "traceback": [
      "\u001b[1;31m---------------------------------------------------------------------------\u001b[0m",
      "\u001b[1;31mValueError\u001b[0m                                Traceback (most recent call last)",
      "\u001b[1;32m<ipython-input-31-c7561528b53a>\u001b[0m in \u001b[0;36m<module>\u001b[1;34m()\u001b[0m\n\u001b[1;32m----> 1\u001b[1;33m \u001b[0mdata\u001b[0m \u001b[1;33m=\u001b[0m \u001b[0mbytearray\u001b[0m\u001b[1;33m(\u001b[0m\u001b[0mrange\u001b[0m\u001b[1;33m(\u001b[0m\u001b[1;36m0\u001b[0m\u001b[1;33m,\u001b[0m \u001b[1;36m0x1FF\u001b[0m\u001b[1;33m,\u001b[0m \u001b[1;36m1\u001b[0m\u001b[1;33m)\u001b[0m\u001b[1;33m)\u001b[0m\u001b[1;33m\u001b[0m\u001b[0m\n\u001b[0m\u001b[0;32m      2\u001b[0m \u001b[1;31m#ser.write(bytes([0x0000, 0x0077, 0x0055]))\u001b[0m\u001b[1;33m\u001b[0m\u001b[1;33m\u001b[0m\u001b[0m\n",
      "\u001b[1;31mValueError\u001b[0m: byte must be in range(0, 256)"
     ]
    }
   ],
   "source": [
    "data = bytearray(range(0, 0x1FF, 1))\n",
    "#ser.write(bytes([0x0000, 0x0077, 0x0055]))"
   ]
  },
  {
   "cell_type": "markdown",
   "metadata": {},
   "source": [
    "# Open wav file"
   ]
  },
  {
   "cell_type": "code",
   "execution_count": 7,
   "metadata": {
    "ExecuteTime": {
     "end_time": "2020-03-13T21:30:30.630850",
     "start_time": "2020-03-13T21:30:30.615250"
    },
    "collapsed": true
   },
   "outputs": [],
   "source": [
    "chunk_size = 1024  "
   ]
  },
  {
   "cell_type": "code",
   "execution_count": 20,
   "metadata": {
    "ExecuteTime": {
     "end_time": "2020-03-22T16:05:12.331220Z",
     "start_time": "2020-03-22T16:05:12.327221Z"
    },
    "collapsed": true
   },
   "outputs": [],
   "source": [
    "wav = wave.open(f=r'..\\test\\Finjark_Master_003.wav', mode='rb')"
   ]
  },
  {
   "cell_type": "markdown",
   "metadata": {},
   "source": [
    "## Just play the song direcly in Python"
   ]
  },
  {
   "cell_type": "code",
   "execution_count": 13,
   "metadata": {
    "ExecuteTime": {
     "end_time": "2018-06-22T22:52:07.267474",
     "start_time": "2018-06-22T22:52:07.217474"
    }
   },
   "outputs": [
    {
     "ename": "KeyboardInterrupt",
     "evalue": "",
     "output_type": "error",
     "traceback": [
      "\u001b[1;31m---------------------------------------------------------------------------\u001b[0m",
      "\u001b[1;31mKeyboardInterrupt\u001b[0m                         Traceback (most recent call last)",
      "\u001b[1;32m<ipython-input-13-3eb6e5ee7fee>\u001b[0m in \u001b[0;36m<module>\u001b[1;34m()\u001b[0m\n\u001b[0;32m     10\u001b[0m \u001b[1;31m#play stream\u001b[0m\u001b[1;33m\u001b[0m\u001b[1;33m\u001b[0m\u001b[0m\n\u001b[0;32m     11\u001b[0m \u001b[1;32mwhile\u001b[0m \u001b[0mdata\u001b[0m\u001b[1;33m:\u001b[0m\u001b[1;33m\u001b[0m\u001b[0m\n\u001b[1;32m---> 12\u001b[1;33m     \u001b[0mstream\u001b[0m\u001b[1;33m.\u001b[0m\u001b[0mwrite\u001b[0m\u001b[1;33m(\u001b[0m\u001b[0mdata\u001b[0m\u001b[1;33m)\u001b[0m\u001b[1;33m\u001b[0m\u001b[0m\n\u001b[0m\u001b[0;32m     13\u001b[0m     \u001b[0mdata\u001b[0m \u001b[1;33m=\u001b[0m \u001b[0mwav\u001b[0m\u001b[1;33m.\u001b[0m\u001b[0mreadframes\u001b[0m\u001b[1;33m(\u001b[0m\u001b[0mchunk_size\u001b[0m\u001b[1;33m)\u001b[0m\u001b[1;33m\u001b[0m\u001b[0m\n",
      "\u001b[1;32mC:\\ProgramData\\Anaconda3\\lib\\site-packages\\pyaudio.py\u001b[0m in \u001b[0;36mwrite\u001b[1;34m(self, frames, num_frames, exception_on_underflow)\u001b[0m\n\u001b[0;32m    584\u001b[0m \u001b[1;33m\u001b[0m\u001b[0m\n\u001b[0;32m    585\u001b[0m         pa.write_stream(self._stream, frames, num_frames,\n\u001b[1;32m--> 586\u001b[1;33m                         exception_on_underflow)\n\u001b[0m\u001b[0;32m    587\u001b[0m \u001b[1;33m\u001b[0m\u001b[0m\n\u001b[0;32m    588\u001b[0m \u001b[1;33m\u001b[0m\u001b[0m\n",
      "\u001b[1;31mKeyboardInterrupt\u001b[0m: "
     ]
    }
   ],
   "source": [
    "p = pyaudio.PyAudio()  \n",
    "#open stream  \n",
    "stream = p.open(format = p.get_format_from_width(wav.getsampwidth()),  \n",
    "                channels = wav.getnchannels(),  \n",
    "                rate = wav.getframerate(),  \n",
    "                output = True)  \n",
    "#read data  \n",
    "data = wav.readframes(chunk_size)  \n",
    "\n",
    "#play stream  \n",
    "#while data:  \n",
    "#    stream.write(data)  \n",
    "#    data = wav.readframes(chunk_size) "
   ]
  },
  {
   "cell_type": "markdown",
   "metadata": {},
   "source": [
    "## Send Data of song via UART to PC and play it in Python"
   ]
  },
  {
   "cell_type": "code",
   "execution_count": 85,
   "metadata": {
    "ExecuteTime": {
     "end_time": "2018-06-23T00:31:08.543816",
     "start_time": "2018-06-23T00:31:08.513816"
    },
    "collapsed": true
   },
   "outputs": [],
   "source": [
    "ser.close()\n",
    "ser = serial.Serial(port='COM5', baudrate=256e3, timeout=5, parity=serial.PARITY_NONE, stopbits=serial.STOPBITS_ONE)"
   ]
  },
  {
   "cell_type": "code",
   "execution_count": 114,
   "metadata": {
    "ExecuteTime": {
     "end_time": "2018-06-23T00:55:11.916847",
     "start_time": "2018-06-23T00:55:11.866847"
    }
   },
   "outputs": [
    {
     "data": {
      "text/plain": [
       "40"
      ]
     },
     "execution_count": 114,
     "metadata": {},
     "output_type": "execute_result"
    }
   ],
   "source": [
    "chunk_size = 20\n",
    "data = None\n",
    "wav = wave.open(f=str(wav_path / 'Finjark_Master_003.wav'), mode='rb')\n",
    "p = pyaudio.PyAudio()  \n",
    "#open stream  \n",
    "stream = p.open(format = p.get_format_from_width(wav.getsampwidth()),  \n",
    "                channels = wav.getnchannels(),  \n",
    "                rate = wav.getframerate(),  \n",
    "                output = True) \n",
    "\n",
    "ser.write(wav.readframes(chunk_size))\n",
    "#data = ser.read_all()\n",
    "\n",
    "#read data\n",
    "#while data:\n",
    "#    stream.write(data)\n",
    "#    ser.write(wav.readframes(chunk_size))\n",
    "#    data = ser.read_all()\n",
    "    \n",
    "\n",
    "\n",
    "#play stream  \n",
    "#while data:  \n",
    "#    stream.write(data)  \n",
    "#    data = wav.readframes(chunk_size) "
   ]
  },
  {
   "cell_type": "markdown",
   "metadata": {},
   "source": [
    "## Send bytes of wav and receive aknowledge"
   ]
  },
  {
   "cell_type": "code",
   "execution_count": 46,
   "metadata": {
    "collapsed": true
   },
   "outputs": [],
   "source": [
    "wav_path = Path(r'D:\\Sicherungen\\Musik_Erwin\\Knaat')"
   ]
  },
  {
   "cell_type": "code",
   "execution_count": 47,
   "metadata": {
    "ExecuteTime": {
     "end_time": "2018-06-23T00:20:26.689633",
     "start_time": "2018-06-23T00:20:26.669633"
    },
    "collapsed": true
   },
   "outputs": [],
   "source": [
    "def get_transmission_chunk(wav, chunk_size):\n",
    "    #frame = b'\\x7E' + \\\n",
    "    frame = wav.readframes(chunk_size).replace(b'\\x7D', b'\\x7D\\x5D') \\\n",
    "                                      .replace(b'\\x7E', b'\\x7D\\x5E') \\\n",
    "            + b'\\x7E'\n",
    "    return frame"
   ]
  },
  {
   "cell_type": "code",
   "execution_count": 49,
   "metadata": {
    "ExecuteTime": {
     "end_time": "2018-06-23T01:10:22.923123",
     "start_time": "2018-06-23T01:06:28.591795"
    },
    "scrolled": true
   },
   "outputs": [
    {
     "ename": "KeyboardInterrupt",
     "evalue": "",
     "output_type": "error",
     "traceback": [
      "\u001b[1;31m---------------------------------------------------------------------------\u001b[0m",
      "\u001b[1;31mKeyboardInterrupt\u001b[0m                         Traceback (most recent call last)",
      "\u001b[1;32m<ipython-input-49-ebf5892b84fc>\u001b[0m in \u001b[0;36m<module>\u001b[1;34m()\u001b[0m\n\u001b[0;32m     22\u001b[0m \u001b[1;32mwhile\u001b[0m \u001b[0mframe\u001b[0m\u001b[1;33m:\u001b[0m\u001b[1;33m\u001b[0m\u001b[0m\n\u001b[0;32m     23\u001b[0m     \u001b[1;32mif\u001b[0m \u001b[0mfree_mem\u001b[0m \u001b[1;33m>\u001b[0m \u001b[1;36m0\u001b[0m\u001b[1;33m:\u001b[0m\u001b[1;33m\u001b[0m\u001b[0m\n\u001b[1;32m---> 24\u001b[1;33m         \u001b[0mser\u001b[0m\u001b[1;33m.\u001b[0m\u001b[0mwrite\u001b[0m\u001b[1;33m(\u001b[0m\u001b[0mframe\u001b[0m\u001b[1;33m)\u001b[0m\u001b[1;33m\u001b[0m\u001b[0m\n\u001b[0m\u001b[0;32m     25\u001b[0m         \u001b[0mtime\u001b[0m\u001b[1;33m.\u001b[0m\u001b[0msleep\u001b[0m\u001b[1;33m(\u001b[0m\u001b[1;36m1e-3\u001b[0m\u001b[1;33m)\u001b[0m\u001b[1;33m\u001b[0m\u001b[0m\n\u001b[0;32m     26\u001b[0m         \u001b[0mrec\u001b[0m \u001b[1;33m=\u001b[0m \u001b[0mser\u001b[0m\u001b[1;33m.\u001b[0m\u001b[0mread\u001b[0m\u001b[1;33m(\u001b[0m\u001b[0mresponse_size\u001b[0m\u001b[1;33m)\u001b[0m\u001b[1;33m.\u001b[0m\u001b[0mhex\u001b[0m\u001b[1;33m(\u001b[0m\u001b[1;33m)\u001b[0m\u001b[1;33m\u001b[0m\u001b[0m\n",
      "\u001b[1;32mC:\\ProgramData\\Anaconda3\\lib\\site-packages\\serial\\serialwin32.py\u001b[0m in \u001b[0;36mwrite\u001b[1;34m(self, data)\u001b[0m\n\u001b[0;32m    317\u001b[0m                 \u001b[1;31m# Wait for the write to complete.\u001b[0m\u001b[1;33m\u001b[0m\u001b[1;33m\u001b[0m\u001b[0m\n\u001b[0;32m    318\u001b[0m                 \u001b[1;31m#~ win32.WaitForSingleObject(self._overlapped_write.hEvent, win32.INFINITE)\u001b[0m\u001b[1;33m\u001b[0m\u001b[1;33m\u001b[0m\u001b[0m\n\u001b[1;32m--> 319\u001b[1;33m                 \u001b[0mwin32\u001b[0m\u001b[1;33m.\u001b[0m\u001b[0mGetOverlappedResult\u001b[0m\u001b[1;33m(\u001b[0m\u001b[0mself\u001b[0m\u001b[1;33m.\u001b[0m\u001b[0m_port_handle\u001b[0m\u001b[1;33m,\u001b[0m \u001b[0mself\u001b[0m\u001b[1;33m.\u001b[0m\u001b[0m_overlapped_write\u001b[0m\u001b[1;33m,\u001b[0m \u001b[0mctypes\u001b[0m\u001b[1;33m.\u001b[0m\u001b[0mbyref\u001b[0m\u001b[1;33m(\u001b[0m\u001b[0mn\u001b[0m\u001b[1;33m)\u001b[0m\u001b[1;33m,\u001b[0m \u001b[1;32mTrue\u001b[0m\u001b[1;33m)\u001b[0m\u001b[1;33m\u001b[0m\u001b[0m\n\u001b[0m\u001b[0;32m    320\u001b[0m                 \u001b[1;32mif\u001b[0m \u001b[0mwin32\u001b[0m\u001b[1;33m.\u001b[0m\u001b[0mGetLastError\u001b[0m\u001b[1;33m(\u001b[0m\u001b[1;33m)\u001b[0m \u001b[1;33m==\u001b[0m \u001b[0mwin32\u001b[0m\u001b[1;33m.\u001b[0m\u001b[0mERROR_OPERATION_ABORTED\u001b[0m\u001b[1;33m:\u001b[0m\u001b[1;33m\u001b[0m\u001b[0m\n\u001b[0;32m    321\u001b[0m                     \u001b[1;32mreturn\u001b[0m \u001b[0mn\u001b[0m\u001b[1;33m.\u001b[0m\u001b[0mvalue\u001b[0m  \u001b[1;31m# canceled IO is no error\u001b[0m\u001b[1;33m\u001b[0m\u001b[0m\n",
      "\u001b[1;31mKeyboardInterrupt\u001b[0m: "
     ]
    }
   ],
   "source": [
    "free_mem = 0\n",
    "response_size = 2\n",
    "\n",
    "wav = wave.open(f=str(wav_path / 'Finjark_Master_003.wav'), mode='rb')\n",
    "p = pyaudio.PyAudio()  \n",
    "#open stream  \n",
    "stream = p.open(format = p.get_format_from_width(wav.getsampwidth()),  \n",
    "                channels = wav.getnchannels(),  \n",
    "                rate = wav.getframerate(),  \n",
    "                output = True) \n",
    "\n",
    "\n",
    "ser.write(b'\\x7E')\n",
    "time.sleep(1e-3)\n",
    "rec = ser.read(response_size).hex()\n",
    "if rec == '':\n",
    "    raise TimeoutError('Timout reached')\n",
    "free_mem = int(rec, 16)\n",
    "frame = get_transmission_chunk(wav=wav, chunk_size=free_mem // wav.getsampwidth())\n",
    "\n",
    "#read data\n",
    "while frame:\n",
    "    if free_mem > 0:\n",
    "        ser.write(frame)\n",
    "        time.sleep(1e-3)\n",
    "        rec = ser.read(response_size).hex()\n",
    "        if rec == '':\n",
    "            raise TimeoutError('Timout reached')\n",
    "        free_mem = int(rec, 16)\n",
    "        frame = get_transmission_chunk(wav=wav, chunk_size=free_mem // wav.getsampwidth())\n",
    "    else:\n",
    "        print('FPGA Buffer full!!')\n",
    "        time.sleep(5e-3)\n",
    "        ser.write(b'\\x7E')\n",
    "        time.sleep(1e-3)\n",
    "        rec = ser.read(response_size).hex()\n",
    "        if rec == '':\n",
    "            raise TimeoutError('Timout reached')\n",
    "        free_mem = int(rec, 16)"
   ]
  },
  {
   "cell_type": "code",
   "execution_count": 40,
   "metadata": {
    "ExecuteTime": {
     "end_time": "2018-06-22T22:50:08.897309",
     "start_time": "2018-06-22T22:50:08.817309"
    },
    "collapsed": true
   },
   "outputs": [],
   "source": [
    "for byte in range(0,0x100,1):\n",
    "    ser.write(bytes([byte]))"
   ]
  },
  {
   "cell_type": "code",
   "execution_count": 82,
   "metadata": {
    "ExecuteTime": {
     "end_time": "2018-06-23T00:22:36.769815",
     "start_time": "2018-06-23T00:22:36.749815"
    }
   },
   "outputs": [
    {
     "data": {
      "text/plain": [
       "9879552"
      ]
     },
     "execution_count": 82,
     "metadata": {},
     "output_type": "execute_result"
    }
   ],
   "source": [
    "wav.getnframes()"
   ]
  },
  {
   "cell_type": "markdown",
   "metadata": {},
   "source": [
    "# Get decoded mp3 data"
   ]
  },
  {
   "cell_type": "markdown",
   "metadata": {},
   "source": [
    "# Check consistency of sent data"
   ]
  },
  {
   "cell_type": "markdown",
   "metadata": {},
   "source": [
    "## Function Definitions"
   ]
  },
  {
   "cell_type": "code",
   "execution_count": 53,
   "metadata": {
    "ExecuteTime": {
     "end_time": "2020-04-03T21:51:02.932355Z",
     "start_time": "2020-04-03T21:51:02.919362Z"
    }
   },
   "outputs": [],
   "source": [
    "def comp_send_receive(rec_data, sent_data):\n",
    "    \"\"\"\n",
    "    Compare array rec_data with array sent_data.\n",
    "    rec_data is expected to consist of n times sent_data, where the first and\n",
    "    last occurence of sent_data might be incomplete.\n",
    "\n",
    "    Parameter:\n",
    "    ----------\n",
    "\n",
    "    rec_data (np.array):\n",
    "        Array which contains n-times sent_data,  where the first and\n",
    "        last occurence of sent_data might be incomplete.\n",
    "    \n",
    "    sent_data (np.array):\n",
    "        Array, which is the \"element\" of received_array\n",
    "\n",
    "    Return:\n",
    "    -------\n",
    "        True:   rec_data consists exclusivly of several occurences of sent_data\n",
    "        False:  -\"- vice versa\n",
    "    \"\"\"\n",
    "    offs = np.where(sent_data == rec_data[0])[0][0]\n",
    "    frame_len = len(sent_data)\n",
    "    len_start_frame = frame_len-offs\n",
    "\n",
    "    num_recvd_frames, len_end_frame = divmod(len(rec_data)-len_start_frame, frame_len)\n",
    "\n",
    "    equal = np.array_equal(rec_data[0:len_start_frame], sent_data[offs:])\n",
    "    for i in range(0, num_recvd_frames):\n",
    "        equal &= np.array_equal(rec_data[len_start_frame + i*frame_len: len_start_frame +i *frame_len + frame_len], sent_data)\n",
    "    if len_end_frame != 0:\n",
    "        equal &= np.array_equal(rec_data[len(rec_data)-len_end_frame:], sent_data[0:len_end_frame])\n",
    "\n",
    "    return equal"
   ]
  },
  {
   "cell_type": "code",
   "execution_count": 55,
   "metadata": {
    "ExecuteTime": {
     "end_time": "2020-04-03T21:56:14.103065Z",
     "start_time": "2020-04-03T21:56:14.070084Z"
    }
   },
   "outputs": [],
   "source": [
    "data = []\n",
    "with open(r'..\\test\\debug_data.csv', 'r') as IN:\n",
    "    for line in IN.readlines():\n",
    "        data.append(line.replace('\\n', '').split(';'))"
   ]
  },
  {
   "cell_type": "code",
   "execution_count": 56,
   "metadata": {
    "ExecuteTime": {
     "end_time": "2020-04-03T21:56:27.347903Z",
     "start_time": "2020-04-03T21:56:17.059694Z"
    }
   },
   "outputs": [],
   "source": [
    "df = pd.DataFrame(data).T \\\n",
    "                  .rename(columns={0:'channel_0', 1:'channel_1', 2:'channel_2', 3:'channel_3'})"
   ]
  },
  {
   "cell_type": "code",
   "execution_count": 61,
   "metadata": {
    "ExecuteTime": {
     "end_time": "2020-04-03T21:58:32.429377Z",
     "start_time": "2020-04-03T21:58:32.420382Z"
    }
   },
   "outputs": [
    {
     "data": {
      "text/html": [
       "<div>\n",
       "<style scoped>\n",
       "    .dataframe tbody tr th:only-of-type {\n",
       "        vertical-align: middle;\n",
       "    }\n",
       "\n",
       "    .dataframe tbody tr th {\n",
       "        vertical-align: top;\n",
       "    }\n",
       "\n",
       "    .dataframe thead th {\n",
       "        text-align: right;\n",
       "    }\n",
       "</style>\n",
       "<table border=\"1\" class=\"dataframe\">\n",
       "  <thead>\n",
       "    <tr style=\"text-align: right;\">\n",
       "      <th></th>\n",
       "      <th>channel_0</th>\n",
       "      <th>channel_1</th>\n",
       "      <th>channel_2</th>\n",
       "      <th>channel_3</th>\n",
       "      <th>4</th>\n",
       "      <th>5</th>\n",
       "    </tr>\n",
       "  </thead>\n",
       "  <tbody>\n",
       "    <tr>\n",
       "      <th>0</th>\n",
       "      <td>60</td>\n",
       "      <td></td>\n",
       "      <td>51</td>\n",
       "      <td></td>\n",
       "      <td></td>\n",
       "      <td></td>\n",
       "    </tr>\n",
       "    <tr>\n",
       "      <th>1</th>\n",
       "      <td>61</td>\n",
       "      <td>None</td>\n",
       "      <td>52</td>\n",
       "      <td>None</td>\n",
       "      <td>None</td>\n",
       "      <td>None</td>\n",
       "    </tr>\n",
       "    <tr>\n",
       "      <th>2</th>\n",
       "      <td>62</td>\n",
       "      <td>None</td>\n",
       "      <td>53</td>\n",
       "      <td>None</td>\n",
       "      <td>None</td>\n",
       "      <td>None</td>\n",
       "    </tr>\n",
       "    <tr>\n",
       "      <th>3</th>\n",
       "      <td>63</td>\n",
       "      <td>None</td>\n",
       "      <td>54</td>\n",
       "      <td>None</td>\n",
       "      <td>None</td>\n",
       "      <td>None</td>\n",
       "    </tr>\n",
       "    <tr>\n",
       "      <th>4</th>\n",
       "      <td>48</td>\n",
       "      <td>None</td>\n",
       "      <td>55</td>\n",
       "      <td>None</td>\n",
       "      <td>None</td>\n",
       "      <td>None</td>\n",
       "    </tr>\n",
       "  </tbody>\n",
       "</table>\n",
       "</div>"
      ],
      "text/plain": [
       "  channel_0 channel_1 channel_2 channel_3     4     5\n",
       "0        60                  51                      \n",
       "1        61      None        52      None  None  None\n",
       "2        62      None        53      None  None  None\n",
       "3        63      None        54      None  None  None\n",
       "4        48      None        55      None  None  None"
      ]
     },
     "execution_count": 61,
     "metadata": {},
     "output_type": "execute_result"
    }
   ],
   "source": [
    "df.head()"
   ]
  },
  {
   "cell_type": "code",
   "execution_count": 75,
   "metadata": {
    "ExecuteTime": {
     "end_time": "2020-04-03T22:17:40.487993Z",
     "start_time": "2020-04-03T22:17:40.378057Z"
    }
   },
   "outputs": [
    {
     "data": {
      "text/plain": [
       "True"
      ]
     },
     "execution_count": 75,
     "metadata": {},
     "output_type": "execute_result"
    }
   ],
   "source": [
    "comp_send_receive(df.channel_0.dropna().astype(int).values, np.arange(start=0x30, stop=0x40, step=1))"
   ]
  },
  {
   "cell_type": "code",
   "execution_count": 77,
   "metadata": {
    "ExecuteTime": {
     "end_time": "2020-04-03T22:17:58.377635Z",
     "start_time": "2020-04-03T22:17:58.362644Z"
    }
   },
   "outputs": [
    {
     "data": {
      "text/html": [
       "<div>\n",
       "<style scoped>\n",
       "    .dataframe tbody tr th:only-of-type {\n",
       "        vertical-align: middle;\n",
       "    }\n",
       "\n",
       "    .dataframe tbody tr th {\n",
       "        vertical-align: top;\n",
       "    }\n",
       "\n",
       "    .dataframe thead th {\n",
       "        text-align: right;\n",
       "    }\n",
       "</style>\n",
       "<table border=\"1\" class=\"dataframe\">\n",
       "  <thead>\n",
       "    <tr style=\"text-align: right;\">\n",
       "      <th></th>\n",
       "      <th>channel_0</th>\n",
       "      <th>channel_1</th>\n",
       "      <th>channel_2</th>\n",
       "      <th>channel_3</th>\n",
       "      <th>4</th>\n",
       "      <th>5</th>\n",
       "    </tr>\n",
       "  </thead>\n",
       "  <tbody>\n",
       "  </tbody>\n",
       "</table>\n",
       "</div>"
      ],
      "text/plain": [
       "Empty DataFrame\n",
       "Columns: [channel_0, channel_1, channel_2, channel_3, 4, 5]\n",
       "Index: []"
      ]
     },
     "execution_count": 77,
     "metadata": {},
     "output_type": "execute_result"
    }
   ],
   "source": [
    "qstr = f\"channel_0 == '0'\"\n",
    "df.query(qstr)"
   ]
  },
  {
   "cell_type": "code",
   "execution_count": 73,
   "metadata": {
    "ExecuteTime": {
     "end_time": "2020-04-03T22:15:59.421378Z",
     "start_time": "2020-04-03T22:14:09.996471Z"
    }
   },
   "outputs": [
    {
     "name": "stdout",
     "output_type": "stream",
     "text": [
      "> \u001b[1;32m<ipython-input-53-8d31feaa4df9>\u001b[0m(22)\u001b[0;36mcomp_send_receive\u001b[1;34m()\u001b[0m\n",
      "\u001b[1;32m     20 \u001b[1;33m        \u001b[1;32mFalse\u001b[0m\u001b[1;33m:\u001b[0m  \u001b[1;33m-\u001b[0m\u001b[0;31m\"\u001b[0m\u001b[1;33m-\u001b[0m \u001b[0mvice\u001b[0m \u001b[0mversa\u001b[0m\u001b[1;33m\u001b[0m\u001b[0m\n",
      "\u001b[0m\u001b[1;32m     21 \u001b[1;33m    \"\"\"\n",
      "\u001b[0m\u001b[1;32m---> 22 \u001b[1;33m    \u001b[0moffs\u001b[0m \u001b[1;33m=\u001b[0m \u001b[0mnp\u001b[0m\u001b[1;33m.\u001b[0m\u001b[0mwhere\u001b[0m\u001b[1;33m(\u001b[0m\u001b[0msent_data\u001b[0m \u001b[1;33m==\u001b[0m \u001b[0mrec_data\u001b[0m\u001b[1;33m[\u001b[0m\u001b[1;36m0\u001b[0m\u001b[1;33m]\u001b[0m\u001b[1;33m)\u001b[0m\u001b[1;33m[\u001b[0m\u001b[1;36m0\u001b[0m\u001b[1;33m]\u001b[0m\u001b[1;33m[\u001b[0m\u001b[1;36m0\u001b[0m\u001b[1;33m]\u001b[0m\u001b[1;33m\u001b[0m\u001b[0m\n",
      "\u001b[0m\u001b[1;32m     23 \u001b[1;33m    \u001b[0mframe_len\u001b[0m \u001b[1;33m=\u001b[0m \u001b[0mlen\u001b[0m\u001b[1;33m(\u001b[0m\u001b[0msent_data\u001b[0m\u001b[1;33m)\u001b[0m\u001b[1;33m\u001b[0m\u001b[0m\n",
      "\u001b[0m\u001b[1;32m     24 \u001b[1;33m    \u001b[0mlen_start_frame\u001b[0m \u001b[1;33m=\u001b[0m \u001b[0mframe_len\u001b[0m\u001b[1;33m-\u001b[0m\u001b[0moffs\u001b[0m\u001b[1;33m\u001b[0m\u001b[0m\n",
      "\u001b[0m\n",
      "ipdb> rec_data\n",
      "array([51, 52, 53, ..., 59, 60, 61])\n",
      "ipdb> rec_data[0]\n",
      "51\n",
      "ipdb> np.where(sent_data == rec_data[0])\n",
      "(array([], dtype=int64),)\n",
      "ipdb> sent_data \n",
      "array([12288, 12544, 12800, 13056, 13312, 13568, 13824, 14080, 14336,\n",
      "       14592, 14848, 15104, 15360, 15616, 15872, 16128])\n",
      "ipdb> exit\n"
     ]
    }
   ],
   "source": [
    "%debug"
   ]
  },
  {
   "cell_type": "code",
   "execution_count": 20,
   "metadata": {
    "ExecuteTime": {
     "end_time": "2020-03-27T23:30:57.849312Z",
     "start_time": "2020-03-27T23:30:57.844315Z"
    }
   },
   "outputs": [
    {
     "data": {
      "text/plain": [
       "'0x3f00'"
      ]
     },
     "execution_count": 20,
     "metadata": {},
     "output_type": "execute_result"
    }
   ],
   "source": [
    "hex(16128)"
   ]
  },
  {
   "cell_type": "markdown",
   "metadata": {
    "collapsed": true
   },
   "source": [
    "# Debug"
   ]
  },
  {
   "cell_type": "code",
   "execution_count": 95,
   "metadata": {
    "ExecuteTime": {
     "end_time": "2018-06-23T00:35:55.200220",
     "start_time": "2018-06-23T00:35:55.180220"
    },
    "collapsed": true
   },
   "outputs": [],
   "source": [
    "a = b'\\x7E\\x7D'"
   ]
  },
  {
   "cell_type": "code",
   "execution_count": 99,
   "metadata": {
    "ExecuteTime": {
     "end_time": "2018-06-23T00:36:50.561298",
     "start_time": "2018-06-23T00:36:50.541298"
    }
   },
   "outputs": [
    {
     "data": {
      "text/plain": [
       "32381"
      ]
     },
     "execution_count": 99,
     "metadata": {},
     "output_type": "execute_result"
    }
   ],
   "source": [
    "int(a.hex(), 16)"
   ]
  },
  {
   "cell_type": "code",
   "execution_count": 62,
   "metadata": {
    "ExecuteTime": {
     "end_time": "2018-06-22T23:54:19.049438",
     "start_time": "2018-06-22T23:54:19.019438"
    }
   },
   "outputs": [
    {
     "data": {
      "text/plain": [
       "'7d5e7d5d'"
      ]
     },
     "execution_count": 62,
     "metadata": {},
     "output_type": "execute_result"
    }
   ],
   "source": [
    "a.replace(b'\\x7D', b'\\x7D\\x5D').replace(b'\\x7E', b'\\x7D\\x5E').hex()"
   ]
  },
  {
   "cell_type": "code",
   "execution_count": 55,
   "metadata": {
    "ExecuteTime": {
     "end_time": "2018-06-22T23:50:30.219118",
     "start_time": "2018-06-22T23:50:30.189118"
    }
   },
   "outputs": [
    {
     "data": {
      "text/plain": [
       "bytes"
      ]
     },
     "execution_count": 55,
     "metadata": {},
     "output_type": "execute_result"
    }
   ],
   "source": [
    "type(wav.readframes(chunk_size))"
   ]
  },
  {
   "cell_type": "code",
   "execution_count": 83,
   "metadata": {
    "ExecuteTime": {
     "end_time": "2018-06-23T00:26:10.652115",
     "start_time": "2018-06-23T00:26:10.622115"
    }
   },
   "outputs": [
    {
     "data": {
      "text/plain": [
       "0"
      ]
     },
     "execution_count": 83,
     "metadata": {},
     "output_type": "execute_result"
    }
   ],
   "source": [
    "ser.timeout"
   ]
  },
  {
   "cell_type": "code",
   "execution_count": 73,
   "metadata": {
    "ExecuteTime": {
     "end_time": "2018-06-23T00:03:55.334245",
     "start_time": "2018-06-23T00:03:55.304245"
    }
   },
   "outputs": [
    {
     "data": {
      "text/plain": [
       "'7e000000000000000000000000000000000000000000000000000000000000000000000000000000000000000000000000000000000000000000000000000000000000000000000000000000000000000000000000000000000000000000000000000000000000000000000000000000000000000000000000000000000000000000000000000000000000000000000000000000000000000000000000000000000000000000000000000000000000000000000000000000000000000000000000000000000000000000000000000000000000000000000000000000000000000000000000000000000000000000000000000000000000000000000000000000000000000000000000000000000000000000000000000000000000000000000000000000000000000000000000000000000000000000000000000000000000000000000000000000000000000000000000000000000000000000000000000000000000000000000000000000000000000000000000000000000000000000000000000000000000000000000000000000000000000000000000000000000000000000000000000000000000000000000000000000000000000000000000000000000000000000000000000000000000000000000000000000000000000000000000000000000000000000000000000000000000000000000000000000000000000000000000000000000000000000000000000000000000000000000000000000000000000000000000000000000000000000000000000000000000000000000000000000000000000000000000000000000000000000000000000000000000000000000000000000000000000000000000000000000000000000000000000000000000000000000000000000000000000000000000000000000000000000000000000000000000000000000000000000000000000000000000000000000000000000000000000000000000000000000000000000000000000000000000000000000000000000000000000000000000000000000000000000000000000000000000000000000000000000000000000000000000000000000000000000000000000000000000000000000000000000000000000000000000000000000000000000000000000000000000000000000000000000000000000000000000000000000000000000000000000000000000000000000000000000000000000000000000000000000000000000000000000000000000000000000000000000000000000000000000000000000000000000000000000000000000000000000000000000000000000000000000000000000000000000000000000000000000000000000000000000000000000000000000000000000000000000000000000000000000000000007e'"
      ]
     },
     "execution_count": 73,
     "metadata": {},
     "output_type": "execute_result"
    }
   ],
   "source": [
    "(b'\\x7E' + wav.readframes(chunk_size).replace(b'\\x7D', b'\\x7D\\x5D').replace(b'\\x7E', b'\\x7D\\x5E') + b'\\x7E').hex()"
   ]
  },
  {
   "cell_type": "code",
   "execution_count": 18,
   "metadata": {
    "collapsed": true
   },
   "outputs": [],
   "source": [
    "ser.close()"
   ]
  },
  {
   "cell_type": "code",
   "execution_count": 50,
   "metadata": {},
   "outputs": [
    {
     "data": {
      "text/plain": [
       "<wave.Wave_read at 0x293b5529048>"
      ]
     },
     "execution_count": 50,
     "metadata": {},
     "output_type": "execute_result"
    }
   ],
   "source": [
    "wav."
   ]
  },
  {
   "cell_type": "code",
   "execution_count": 96,
   "metadata": {
    "ExecuteTime": {
     "end_time": "2020-03-27T22:25:14.819430Z",
     "start_time": "2020-03-27T22:25:14.813432Z"
    },
    "collapsed": true
   },
   "outputs": [],
   "source": [
    "a = np.array([1, 2, 0, 1, 2, 0, 1, 2, 0, 1])\n",
    "b = np.array([0, 1, 2])\n",
    "c = np.array([1, 2, 0, 1, 2, 0, 1, 2, 0, 2])"
   ]
  },
  {
   "cell_type": "code",
   "execution_count": 99,
   "metadata": {
    "ExecuteTime": {
     "end_time": "2020-03-27T22:25:44.186601Z",
     "start_time": "2020-03-27T22:25:44.181611Z"
    },
    "scrolled": true
   },
   "outputs": [
    {
     "data": {
      "text/plain": [
       "True"
      ]
     },
     "execution_count": 99,
     "metadata": {},
     "output_type": "execute_result"
    }
   ],
   "source": [
    "comp_send_receive(rec_data=a, sent_data=b)"
   ]
  },
  {
   "cell_type": "code",
   "execution_count": 22,
   "metadata": {
    "ExecuteTime": {
     "end_time": "2020-03-27T21:50:00.899334Z",
     "start_time": "2020-03-27T21:50:00.893338Z"
    }
   },
   "outputs": [
    {
     "data": {
      "text/plain": [
       "(array([0, 3, 6], dtype=int64),)"
      ]
     },
     "execution_count": 22,
     "metadata": {},
     "output_type": "execute_result"
    }
   ],
   "source": [
    "np.where(c == 1)"
   ]
  },
  {
   "cell_type": "code",
   "execution_count": null,
   "metadata": {
    "collapsed": true
   },
   "outputs": [],
   "source": []
  }
 ],
 "metadata": {
  "kernelspec": {
   "display_name": "Python 3",
   "language": "python",
   "name": "python3"
  },
  "language_info": {
   "codemirror_mode": {
    "name": "ipython",
    "version": 3
   },
   "file_extension": ".py",
   "mimetype": "text/x-python",
   "name": "python",
   "nbconvert_exporter": "python",
   "pygments_lexer": "ipython3",
   "version": "3.6.4"
  },
  "nav_menu": {},
  "toc": {
   "base_numbering": 1,
   "nav_menu": {},
   "number_sections": true,
   "sideBar": true,
   "skip_h1_title": false,
   "title_cell": "Table of Contents",
   "title_sidebar": "Contents",
   "toc_cell": true,
   "toc_position": {
    "height": "837px",
    "left": "0px",
    "right": "1558px",
    "top": "107px",
    "width": "298px"
   },
   "toc_section_display": true,
   "toc_window_display": true
  },
  "toc_section_display": "block",
  "toc_window_display": true,
  "version": "3.5.2"
 },
 "nbformat": 4,
 "nbformat_minor": 2
}
