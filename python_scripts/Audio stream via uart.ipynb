{
 "cells": [
  {
   "cell_type": "markdown",
   "metadata": {
    "toc": "true"
   },
   "source": [
    "<h1>Table of Contents<span class=\"tocSkip\"></span></h1>\n",
    "<div class=\"toc\" style=\"margin-top: 1em;\"><ul class=\"toc-item\"><li><span><a href=\"#Imports\" data-toc-modified-id=\"Imports-1\"><span class=\"toc-item-num\">1&nbsp;&nbsp;</span>Imports</a></span></li><li><span><a href=\"#Open-Serial-Port\" data-toc-modified-id=\"Open-Serial-Port-2\"><span class=\"toc-item-num\">2&nbsp;&nbsp;</span>Open Serial Port</a></span><ul class=\"toc-item\"><li><span><a href=\"#Loop-sending-bytes\" data-toc-modified-id=\"Loop-sending-bytes-2.1\"><span class=\"toc-item-num\">2.1&nbsp;&nbsp;</span>Loop sending bytes</a></span></li><li><span><a href=\"#Send-bytes-in-HDLC-in-a-loop\" data-toc-modified-id=\"Send-bytes-in-HDLC-in-a-loop-2.2\"><span class=\"toc-item-num\">2.2&nbsp;&nbsp;</span>Send bytes in HDLC in a loop</a></span></li></ul></li><li><span><a href=\"#Open-wav-file\" data-toc-modified-id=\"Open-wav-file-3\"><span class=\"toc-item-num\">3&nbsp;&nbsp;</span>Open wav file</a></span><ul class=\"toc-item\"><li><span><a href=\"#Just-play-the-song-direcly-in-Python\" data-toc-modified-id=\"Just-play-the-song-direcly-in-Python-3.1\"><span class=\"toc-item-num\">3.1&nbsp;&nbsp;</span>Just play the song direcly in Python</a></span></li><li><span><a href=\"#Send-Data-of-song-via-UART-to-PC-and-play-it-in-Python\" data-toc-modified-id=\"Send-Data-of-song-via-UART-to-PC-and-play-it-in-Python-3.2\"><span class=\"toc-item-num\">3.2&nbsp;&nbsp;</span>Send Data of song via UART to PC and play it in Python</a></span></li><li><span><a href=\"#Send-bytes-of-wav-and-receive-aknowledge\" data-toc-modified-id=\"Send-bytes-of-wav-and-receive-aknowledge-3.3\"><span class=\"toc-item-num\">3.3&nbsp;&nbsp;</span>Send bytes of wav and receive aknowledge</a></span></li></ul></li><li><span><a href=\"#Get-decoded-mp3-data\" data-toc-modified-id=\"Get-decoded-mp3-data-4\"><span class=\"toc-item-num\">4&nbsp;&nbsp;</span>Get decoded mp3 data</a></span></li><li><span><a href=\"#Check-consistency-of-sent-data\" data-toc-modified-id=\"Check-consistency-of-sent-data-5\"><span class=\"toc-item-num\">5&nbsp;&nbsp;</span>Check consistency of sent data</a></span><ul class=\"toc-item\"><li><span><a href=\"#Function-Definitions\" data-toc-modified-id=\"Function-Definitions-5.1\"><span class=\"toc-item-num\">5.1&nbsp;&nbsp;</span>Function Definitions</a></span></li></ul></li><li><span><a href=\"#Debug\" data-toc-modified-id=\"Debug-6\"><span class=\"toc-item-num\">6&nbsp;&nbsp;</span>Debug</a></span></li></ul></div>"
   ]
  },
  {
   "cell_type": "markdown",
   "metadata": {},
   "source": [
    "# Imports"
   ]
  },
  {
   "cell_type": "code",
   "execution_count": 42,
   "metadata": {
    "ExecuteTime": {
     "end_time": "2020-03-22T20:41:14.672232Z",
     "start_time": "2020-03-22T20:41:14.670233Z"
    },
    "collapsed": true
   },
   "outputs": [],
   "source": [
    "import serial\n",
    "import time\n",
    "from pathlib import Path"
   ]
  },
  {
   "cell_type": "code",
   "execution_count": 43,
   "metadata": {
    "ExecuteTime": {
     "end_time": "2020-03-22T20:41:15.756237Z",
     "start_time": "2020-03-22T20:41:15.752239Z"
    },
    "collapsed": true
   },
   "outputs": [],
   "source": [
    "import wave\n",
    "import pyaudio"
   ]
  },
  {
   "cell_type": "code",
   "execution_count": 1,
   "metadata": {
    "ExecuteTime": {
     "end_time": "2020-03-27T21:33:12.707984Z",
     "start_time": "2020-03-27T21:33:11.649316Z"
    },
    "collapsed": true
   },
   "outputs": [],
   "source": [
    "import numpy as np\n",
    "import pandas as pd"
   ]
  },
  {
   "cell_type": "markdown",
   "metadata": {},
   "source": [
    "# Open Serial Port"
   ]
  },
  {
   "cell_type": "code",
   "execution_count": 74,
   "metadata": {
    "ExecuteTime": {
     "end_time": "2020-03-22T20:50:24.286232Z",
     "start_time": "2020-03-22T20:50:24.279236Z"
    },
    "collapsed": true
   },
   "outputs": [],
   "source": [
    "ser = serial.Serial('COM5', 1.5e6, timeout=0, parity=serial.PARITY_NONE) # the baudrate of the uart dongle in verry unprecise. 1.5MHz is matched verry good."
   ]
  },
  {
   "cell_type": "code",
   "execution_count": 73,
   "metadata": {
    "ExecuteTime": {
     "end_time": "2020-03-22T20:50:20.923351Z",
     "start_time": "2020-03-22T20:50:20.919354Z"
    },
    "collapsed": true
   },
   "outputs": [],
   "source": [
    "ser.close()"
   ]
  },
  {
   "cell_type": "code",
   "execution_count": 11,
   "metadata": {
    "ExecuteTime": {
     "end_time": "2020-03-13T21:32:04.783216",
     "start_time": "2020-03-13T21:32:04.752016"
    }
   },
   "outputs": [
    {
     "data": {
      "text/plain": [
       "1"
      ]
     },
     "execution_count": 11,
     "metadata": {},
     "output_type": "execute_result"
    }
   ],
   "source": [
    "ser.write(bytes([0x03]))#b'U')"
   ]
  },
  {
   "cell_type": "markdown",
   "metadata": {},
   "source": [
    "## Loop sending bytes"
   ]
  },
  {
   "cell_type": "code",
   "execution_count": 15,
   "metadata": {
    "ExecuteTime": {
     "end_time": "2020-03-13T21:39:28.719303",
     "start_time": "2020-03-13T21:37:20.971177"
    },
    "scrolled": true
   },
   "outputs": [
    {
     "ename": "KeyboardInterrupt",
     "evalue": "",
     "output_type": "error",
     "traceback": [
      "\u001b[1;31m---------------------------------------------------------------------------\u001b[0m",
      "\u001b[1;31mKeyboardInterrupt\u001b[0m                         Traceback (most recent call last)",
      "\u001b[1;32m<ipython-input-15-15886875dba6>\u001b[0m in \u001b[0;36m<module>\u001b[1;34m()\u001b[0m\n\u001b[0;32m      3\u001b[0m         \u001b[1;31m#print(byte)\u001b[0m\u001b[1;33m\u001b[0m\u001b[1;33m\u001b[0m\u001b[0m\n\u001b[0;32m      4\u001b[0m         \u001b[0mser\u001b[0m\u001b[1;33m.\u001b[0m\u001b[0mwrite\u001b[0m\u001b[1;33m(\u001b[0m\u001b[0mbytes\u001b[0m\u001b[1;33m(\u001b[0m\u001b[1;33m[\u001b[0m\u001b[0mbyte\u001b[0m\u001b[1;33m]\u001b[0m\u001b[1;33m)\u001b[0m\u001b[1;33m)\u001b[0m \u001b[1;31m#, 0x01, 0x7F, 0x3F, 0x0F,0xFF]))\u001b[0m\u001b[1;33m\u001b[0m\u001b[0m\n\u001b[1;32m----> 5\u001b[1;33m         \u001b[0mtime\u001b[0m\u001b[1;33m.\u001b[0m\u001b[0msleep\u001b[0m\u001b[1;33m(\u001b[0m\u001b[1;36m1e-2\u001b[0m\u001b[1;33m)\u001b[0m\u001b[1;33m\u001b[0m\u001b[0m\n\u001b[0m",
      "\u001b[1;31mKeyboardInterrupt\u001b[0m: "
     ]
    }
   ],
   "source": [
    "while(True):\n",
    "    for byte in range(0,0x100,1):\n",
    "        #print(byte)\n",
    "        ser.write(bytes([byte])) #, 0x01, 0x7F, 0x3F, 0x0F,0xFF]))\n",
    "        time.sleep(1e-2)"
   ]
  },
  {
   "cell_type": "code",
   "execution_count": 26,
   "metadata": {
    "ExecuteTime": {
     "end_time": "2020-03-13T21:41:13.076987",
     "start_time": "2020-03-13T21:41:13.061387"
    }
   },
   "outputs": [
    {
     "data": {
      "text/plain": [
       "1"
      ]
     },
     "execution_count": 26,
     "metadata": {},
     "output_type": "execute_result"
    }
   ],
   "source": [
    "ser.write(bytes([0x7E]))"
   ]
  },
  {
   "cell_type": "code",
   "execution_count": 27,
   "metadata": {
    "ExecuteTime": {
     "end_time": "2020-03-13T21:41:15.479391",
     "start_time": "2020-03-13T21:41:15.448191"
    }
   },
   "outputs": [
    {
     "data": {
      "text/plain": [
       "b'\\x0f\\xfe'"
      ]
     },
     "execution_count": 27,
     "metadata": {},
     "output_type": "execute_result"
    }
   ],
   "source": [
    "ser.read_all()"
   ]
  },
  {
   "cell_type": "code",
   "execution_count": null,
   "metadata": {
    "collapsed": true
   },
   "outputs": [],
   "source": [
    "ser.close()"
   ]
  },
  {
   "cell_type": "code",
   "execution_count": null,
   "metadata": {
    "collapsed": true
   },
   "outputs": [],
   "source": [
    "while(True):\n",
    "    time.sleep(1)\n",
    "    ser.write(bytes([0x00, 0x77, 0x55]))"
   ]
  },
  {
   "cell_type": "markdown",
   "metadata": {},
   "source": [
    "## Send bytes in HDLC in a loop"
   ]
  },
  {
   "cell_type": "code",
   "execution_count": 47,
   "metadata": {
    "ExecuteTime": {
     "end_time": "2020-03-22T20:42:31.055288Z",
     "start_time": "2020-03-22T20:42:31.049291Z"
    },
    "collapsed": true
   },
   "outputs": [],
   "source": [
    "def create_hdlc_frame(data):\n",
    "    if type(data) != bytearray:\n",
    "        msg = \"Unexpected data type. Received {}, but expected 'bytearray'\".format(type(data))\n",
    "    \n",
    "    frame = b'\\x7E' + \\\n",
    "            data.replace(b'\\x7D', b'\\x7D\\x5D') \\\n",
    "                .replace(b'\\x7E', b'\\x7D\\x5E') \\\n",
    "            + b'\\x7E'\n",
    "            \n",
    "    return frame"
   ]
  },
  {
   "cell_type": "code",
   "execution_count": 48,
   "metadata": {
    "ExecuteTime": {
     "end_time": "2020-03-22T20:42:32.283046Z",
     "start_time": "2020-03-22T20:42:32.280047Z"
    },
    "collapsed": true
   },
   "outputs": [],
   "source": [
    "data_little_endian = (np.arange(start=0x30, stop=0x40, step=1,dtype=np.int16()))"
   ]
  },
  {
   "cell_type": "code",
   "execution_count": 49,
   "metadata": {
    "ExecuteTime": {
     "end_time": "2020-03-22T20:42:33.451244Z",
     "start_time": "2020-03-22T20:42:33.447245Z"
    }
   },
   "outputs": [
    {
     "data": {
      "text/plain": [
       "b'0\\x001\\x002\\x003\\x004\\x005\\x006\\x007\\x008\\x009\\x00:\\x00;\\x00<\\x00=\\x00>\\x00?\\x00'"
      ]
     },
     "execution_count": 49,
     "metadata": {},
     "output_type": "execute_result"
    }
   ],
   "source": [
    "bytes(data_little_endian)"
   ]
  },
  {
   "cell_type": "code",
   "execution_count": 50,
   "metadata": {
    "ExecuteTime": {
     "end_time": "2020-03-22T20:42:36.125235Z",
     "start_time": "2020-03-22T20:42:36.121236Z"
    }
   },
   "outputs": [
    {
     "data": {
      "text/plain": [
       "b'\\x000\\x001\\x002\\x003\\x004\\x005\\x006\\x007\\x008\\x009\\x00:\\x00;\\x00<\\x00=\\x00>\\x00?'"
      ]
     },
     "execution_count": 50,
     "metadata": {},
     "output_type": "execute_result"
    }
   ],
   "source": [
    "data_big_endian = bytes(data_little_endian.astype('>i2'))\n",
    "data_big_endian"
   ]
  },
  {
   "cell_type": "code",
   "execution_count": 3,
   "metadata": {
    "ExecuteTime": {
     "end_time": "2020-03-22T16:06:24.630565Z",
     "start_time": "2020-03-22T16:06:24.626567Z"
    },
    "collapsed": true
   },
   "outputs": [],
   "source": [
    "#data = bytes(np.arange(start=0x39, stop=0x30, step=-1,dtype=np.int16()))"
   ]
  },
  {
   "cell_type": "code",
   "execution_count": 144,
   "metadata": {
    "ExecuteTime": {
     "end_time": "2020-03-13T23:42:28.375794",
     "start_time": "2020-03-13T23:42:28.344594"
    },
    "collapsed": true
   },
   "outputs": [],
   "source": [
    "#data = bytes(np.arange(start=0x39, stop=0x30, step=-1,dtype=np.int16()))"
   ]
  },
  {
   "cell_type": "code",
   "execution_count": 51,
   "metadata": {
    "ExecuteTime": {
     "end_time": "2020-03-22T20:42:49.929853Z",
     "start_time": "2020-03-22T20:42:49.926854Z"
    },
    "collapsed": true
   },
   "outputs": [],
   "source": [
    "hdlc_frame = create_hdlc_frame(data=data_big_endian)"
   ]
  },
  {
   "cell_type": "code",
   "execution_count": 52,
   "metadata": {
    "ExecuteTime": {
     "end_time": "2020-03-22T20:42:51.292326Z",
     "start_time": "2020-03-22T20:42:51.287329Z"
    }
   },
   "outputs": [
    {
     "data": {
      "text/plain": [
       "b'~\\x000\\x001\\x002\\x003\\x004\\x005\\x006\\x007\\x008\\x009\\x00:\\x00;\\x00<\\x00=\\x00>\\x00?~'"
      ]
     },
     "execution_count": 52,
     "metadata": {},
     "output_type": "execute_result"
    }
   ],
   "source": [
    "hdlc_frame"
   ]
  },
  {
   "cell_type": "code",
   "execution_count": 72,
   "metadata": {
    "ExecuteTime": {
     "end_time": "2020-03-22T20:49:48.790916Z",
     "start_time": "2020-03-22T20:49:46.344201Z"
    }
   },
   "outputs": [
    {
     "ename": "KeyboardInterrupt",
     "evalue": "",
     "output_type": "error",
     "traceback": [
      "\u001b[1;31m---------------------------------------------------------------------------\u001b[0m",
      "\u001b[1;31mKeyboardInterrupt\u001b[0m                         Traceback (most recent call last)",
      "\u001b[1;32m<ipython-input-72-8a5f2b8db922>\u001b[0m in \u001b[0;36m<module>\u001b[1;34m()\u001b[0m\n\u001b[0;32m      1\u001b[0m \u001b[1;32mwhile\u001b[0m\u001b[1;33m(\u001b[0m\u001b[1;36m1\u001b[0m\u001b[1;33m)\u001b[0m\u001b[1;33m:\u001b[0m\u001b[1;33m\u001b[0m\u001b[0m\n\u001b[1;32m----> 2\u001b[1;33m     \u001b[0mser\u001b[0m\u001b[1;33m.\u001b[0m\u001b[0mwrite\u001b[0m\u001b[1;33m(\u001b[0m\u001b[0mhdlc_frame\u001b[0m\u001b[1;33m)\u001b[0m\u001b[1;33m\u001b[0m\u001b[0m\n\u001b[0m\u001b[0;32m      3\u001b[0m     \u001b[0mser\u001b[0m\u001b[1;33m.\u001b[0m\u001b[0mread_all\u001b[0m\u001b[1;33m(\u001b[0m\u001b[1;33m)\u001b[0m\u001b[1;33m\u001b[0m\u001b[0m\n",
      "\u001b[1;32mC:\\ProgramData\\Anaconda3\\lib\\site-packages\\serial\\serialwin32.py\u001b[0m in \u001b[0;36mwrite\u001b[1;34m(self, data)\u001b[0m\n\u001b[0;32m    317\u001b[0m                 \u001b[1;31m# Wait for the write to complete.\u001b[0m\u001b[1;33m\u001b[0m\u001b[1;33m\u001b[0m\u001b[0m\n\u001b[0;32m    318\u001b[0m                 \u001b[1;31m#~ win32.WaitForSingleObject(self._overlapped_write.hEvent, win32.INFINITE)\u001b[0m\u001b[1;33m\u001b[0m\u001b[1;33m\u001b[0m\u001b[0m\n\u001b[1;32m--> 319\u001b[1;33m                 \u001b[0mwin32\u001b[0m\u001b[1;33m.\u001b[0m\u001b[0mGetOverlappedResult\u001b[0m\u001b[1;33m(\u001b[0m\u001b[0mself\u001b[0m\u001b[1;33m.\u001b[0m\u001b[0m_port_handle\u001b[0m\u001b[1;33m,\u001b[0m \u001b[0mself\u001b[0m\u001b[1;33m.\u001b[0m\u001b[0m_overlapped_write\u001b[0m\u001b[1;33m,\u001b[0m \u001b[0mctypes\u001b[0m\u001b[1;33m.\u001b[0m\u001b[0mbyref\u001b[0m\u001b[1;33m(\u001b[0m\u001b[0mn\u001b[0m\u001b[1;33m)\u001b[0m\u001b[1;33m,\u001b[0m \u001b[1;32mTrue\u001b[0m\u001b[1;33m)\u001b[0m\u001b[1;33m\u001b[0m\u001b[0m\n\u001b[0m\u001b[0;32m    320\u001b[0m                 \u001b[1;32mif\u001b[0m \u001b[0mwin32\u001b[0m\u001b[1;33m.\u001b[0m\u001b[0mGetLastError\u001b[0m\u001b[1;33m(\u001b[0m\u001b[1;33m)\u001b[0m \u001b[1;33m==\u001b[0m \u001b[0mwin32\u001b[0m\u001b[1;33m.\u001b[0m\u001b[0mERROR_OPERATION_ABORTED\u001b[0m\u001b[1;33m:\u001b[0m\u001b[1;33m\u001b[0m\u001b[0m\n\u001b[0;32m    321\u001b[0m                     \u001b[1;32mreturn\u001b[0m \u001b[0mn\u001b[0m\u001b[1;33m.\u001b[0m\u001b[0mvalue\u001b[0m  \u001b[1;31m# canceled IO is no error\u001b[0m\u001b[1;33m\u001b[0m\u001b[0m\n",
      "\u001b[1;31mKeyboardInterrupt\u001b[0m: "
     ]
    }
   ],
   "source": [
    "while(1):\n",
    "    ser.write(hdlc_frame)\n",
    "    ser.read_all()"
   ]
  },
  {
   "cell_type": "code",
   "execution_count": null,
   "metadata": {
    "collapsed": true
   },
   "outputs": [],
   "source": [
    "ser.write(hdlc_frame)\n",
    "ser.read_all()"
   ]
  },
  {
   "cell_type": "code",
   "execution_count": 36,
   "metadata": {
    "ExecuteTime": {
     "end_time": "2020-03-13T22:07:00.612425",
     "start_time": "2020-03-13T22:07:00.581225"
    }
   },
   "outputs": [
    {
     "data": {
      "text/plain": [
       "b'\\x00\\x00\\x01\\x00\\x02\\x00\\x03\\x00\\x04\\x00\\x05\\x00\\x06\\x00\\x07\\x00\\x08\\x00\\t\\x00\\n\\x00\\x0b\\x00\\x0c\\x00\\r\\x00\\x0e\\x00\\x0f\\x00'"
      ]
     },
     "execution_count": 36,
     "metadata": {},
     "output_type": "execute_result"
    }
   ],
   "source": [
    "data = bytes(np.arange(start=0, stop=0x10, step=1,dtype=np.int16), )"
   ]
  },
  {
   "cell_type": "code",
   "execution_count": 31,
   "metadata": {
    "ExecuteTime": {
     "end_time": "2020-03-13T22:04:01.614508",
     "start_time": "2020-03-13T22:04:01.567708"
    }
   },
   "outputs": [
    {
     "ename": "ValueError",
     "evalue": "byte must be in range(0, 256)",
     "output_type": "error",
     "traceback": [
      "\u001b[1;31m---------------------------------------------------------------------------\u001b[0m",
      "\u001b[1;31mValueError\u001b[0m                                Traceback (most recent call last)",
      "\u001b[1;32m<ipython-input-31-c7561528b53a>\u001b[0m in \u001b[0;36m<module>\u001b[1;34m()\u001b[0m\n\u001b[1;32m----> 1\u001b[1;33m \u001b[0mdata\u001b[0m \u001b[1;33m=\u001b[0m \u001b[0mbytearray\u001b[0m\u001b[1;33m(\u001b[0m\u001b[0mrange\u001b[0m\u001b[1;33m(\u001b[0m\u001b[1;36m0\u001b[0m\u001b[1;33m,\u001b[0m \u001b[1;36m0x1FF\u001b[0m\u001b[1;33m,\u001b[0m \u001b[1;36m1\u001b[0m\u001b[1;33m)\u001b[0m\u001b[1;33m)\u001b[0m\u001b[1;33m\u001b[0m\u001b[0m\n\u001b[0m\u001b[0;32m      2\u001b[0m \u001b[1;31m#ser.write(bytes([0x0000, 0x0077, 0x0055]))\u001b[0m\u001b[1;33m\u001b[0m\u001b[1;33m\u001b[0m\u001b[0m\n",
      "\u001b[1;31mValueError\u001b[0m: byte must be in range(0, 256)"
     ]
    }
   ],
   "source": [
    "data = bytearray(range(0, 0x1FF, 1))\n",
    "#ser.write(bytes([0x0000, 0x0077, 0x0055]))"
   ]
  },
  {
   "cell_type": "markdown",
   "metadata": {},
   "source": [
    "# Open wav file"
   ]
  },
  {
   "cell_type": "code",
   "execution_count": 7,
   "metadata": {
    "ExecuteTime": {
     "end_time": "2020-03-13T21:30:30.630850",
     "start_time": "2020-03-13T21:30:30.615250"
    },
    "collapsed": true
   },
   "outputs": [],
   "source": [
    "chunk_size = 1024  "
   ]
  },
  {
   "cell_type": "code",
   "execution_count": 20,
   "metadata": {
    "ExecuteTime": {
     "end_time": "2020-03-22T16:05:12.331220Z",
     "start_time": "2020-03-22T16:05:12.327221Z"
    },
    "collapsed": true
   },
   "outputs": [],
   "source": [
    "wav = wave.open(f=r'..\\test\\Finjark_Master_003.wav', mode='rb')"
   ]
  },
  {
   "cell_type": "markdown",
   "metadata": {},
   "source": [
    "## Just play the song direcly in Python"
   ]
  },
  {
   "cell_type": "code",
   "execution_count": 13,
   "metadata": {
    "ExecuteTime": {
     "end_time": "2018-06-22T22:52:07.267474",
     "start_time": "2018-06-22T22:52:07.217474"
    }
   },
   "outputs": [
    {
     "ename": "KeyboardInterrupt",
     "evalue": "",
     "output_type": "error",
     "traceback": [
      "\u001b[1;31m---------------------------------------------------------------------------\u001b[0m",
      "\u001b[1;31mKeyboardInterrupt\u001b[0m                         Traceback (most recent call last)",
      "\u001b[1;32m<ipython-input-13-3eb6e5ee7fee>\u001b[0m in \u001b[0;36m<module>\u001b[1;34m()\u001b[0m\n\u001b[0;32m     10\u001b[0m \u001b[1;31m#play stream\u001b[0m\u001b[1;33m\u001b[0m\u001b[1;33m\u001b[0m\u001b[0m\n\u001b[0;32m     11\u001b[0m \u001b[1;32mwhile\u001b[0m \u001b[0mdata\u001b[0m\u001b[1;33m:\u001b[0m\u001b[1;33m\u001b[0m\u001b[0m\n\u001b[1;32m---> 12\u001b[1;33m     \u001b[0mstream\u001b[0m\u001b[1;33m.\u001b[0m\u001b[0mwrite\u001b[0m\u001b[1;33m(\u001b[0m\u001b[0mdata\u001b[0m\u001b[1;33m)\u001b[0m\u001b[1;33m\u001b[0m\u001b[0m\n\u001b[0m\u001b[0;32m     13\u001b[0m     \u001b[0mdata\u001b[0m \u001b[1;33m=\u001b[0m \u001b[0mwav\u001b[0m\u001b[1;33m.\u001b[0m\u001b[0mreadframes\u001b[0m\u001b[1;33m(\u001b[0m\u001b[0mchunk_size\u001b[0m\u001b[1;33m)\u001b[0m\u001b[1;33m\u001b[0m\u001b[0m\n",
      "\u001b[1;32mC:\\ProgramData\\Anaconda3\\lib\\site-packages\\pyaudio.py\u001b[0m in \u001b[0;36mwrite\u001b[1;34m(self, frames, num_frames, exception_on_underflow)\u001b[0m\n\u001b[0;32m    584\u001b[0m \u001b[1;33m\u001b[0m\u001b[0m\n\u001b[0;32m    585\u001b[0m         pa.write_stream(self._stream, frames, num_frames,\n\u001b[1;32m--> 586\u001b[1;33m                         exception_on_underflow)\n\u001b[0m\u001b[0;32m    587\u001b[0m \u001b[1;33m\u001b[0m\u001b[0m\n\u001b[0;32m    588\u001b[0m \u001b[1;33m\u001b[0m\u001b[0m\n",
      "\u001b[1;31mKeyboardInterrupt\u001b[0m: "
     ]
    }
   ],
   "source": [
    "p = pyaudio.PyAudio()  \n",
    "#open stream  \n",
    "stream = p.open(format = p.get_format_from_width(wav.getsampwidth()),  \n",
    "                channels = wav.getnchannels(),  \n",
    "                rate = wav.getframerate(),  \n",
    "                output = True)  \n",
    "#read data  \n",
    "data = wav.readframes(chunk_size)  \n",
    "\n",
    "#play stream  \n",
    "#while data:  \n",
    "#    stream.write(data)  \n",
    "#    data = wav.readframes(chunk_size) "
   ]
  },
  {
   "cell_type": "markdown",
   "metadata": {},
   "source": [
    "## Send Data of song via UART to PC and play it in Python"
   ]
  },
  {
   "cell_type": "code",
   "execution_count": 85,
   "metadata": {
    "ExecuteTime": {
     "end_time": "2018-06-23T00:31:08.543816",
     "start_time": "2018-06-23T00:31:08.513816"
    },
    "collapsed": true
   },
   "outputs": [],
   "source": [
    "ser.close()\n",
    "ser = serial.Serial(port='COM5', baudrate=256e3, timeout=5, parity=serial.PARITY_NONE, stopbits=serial.STOPBITS_ONE)"
   ]
  },
  {
   "cell_type": "code",
   "execution_count": 114,
   "metadata": {
    "ExecuteTime": {
     "end_time": "2018-06-23T00:55:11.916847",
     "start_time": "2018-06-23T00:55:11.866847"
    }
   },
   "outputs": [
    {
     "data": {
      "text/plain": [
       "40"
      ]
     },
     "execution_count": 114,
     "metadata": {},
     "output_type": "execute_result"
    }
   ],
   "source": [
    "chunk_size = 20\n",
    "data = None\n",
    "wav = wave.open(f=str(wav_path / 'Finjark_Master_003.wav'), mode='rb')\n",
    "p = pyaudio.PyAudio()  \n",
    "#open stream  \n",
    "stream = p.open(format = p.get_format_from_width(wav.getsampwidth()),  \n",
    "                channels = wav.getnchannels(),  \n",
    "                rate = wav.getframerate(),  \n",
    "                output = True) \n",
    "\n",
    "ser.write(wav.readframes(chunk_size))\n",
    "#data = ser.read_all()\n",
    "\n",
    "#read data\n",
    "#while data:\n",
    "#    stream.write(data)\n",
    "#    ser.write(wav.readframes(chunk_size))\n",
    "#    data = ser.read_all()\n",
    "    \n",
    "\n",
    "\n",
    "#play stream  \n",
    "#while data:  \n",
    "#    stream.write(data)  \n",
    "#    data = wav.readframes(chunk_size) "
   ]
  },
  {
   "cell_type": "markdown",
   "metadata": {},
   "source": [
    "## Send bytes of wav and receive aknowledge"
   ]
  },
  {
   "cell_type": "code",
   "execution_count": 46,
   "metadata": {
    "collapsed": true
   },
   "outputs": [],
   "source": [
    "wav_path = Path(r'D:\\Sicherungen\\Musik_Erwin\\Knaat')"
   ]
  },
  {
   "cell_type": "code",
   "execution_count": 47,
   "metadata": {
    "ExecuteTime": {
     "end_time": "2018-06-23T00:20:26.689633",
     "start_time": "2018-06-23T00:20:26.669633"
    },
    "collapsed": true
   },
   "outputs": [],
   "source": [
    "def get_transmission_chunk(wav, chunk_size):\n",
    "    #frame = b'\\x7E' + \\\n",
    "    frame = wav.readframes(chunk_size).replace(b'\\x7D', b'\\x7D\\x5D') \\\n",
    "                                      .replace(b'\\x7E', b'\\x7D\\x5E') \\\n",
    "            + b'\\x7E'\n",
    "    return frame"
   ]
  },
  {
   "cell_type": "code",
   "execution_count": 49,
   "metadata": {
    "ExecuteTime": {
     "end_time": "2018-06-23T01:10:22.923123",
     "start_time": "2018-06-23T01:06:28.591795"
    },
    "scrolled": true
   },
   "outputs": [
    {
     "ename": "KeyboardInterrupt",
     "evalue": "",
     "output_type": "error",
     "traceback": [
      "\u001b[1;31m---------------------------------------------------------------------------\u001b[0m",
      "\u001b[1;31mKeyboardInterrupt\u001b[0m                         Traceback (most recent call last)",
      "\u001b[1;32m<ipython-input-49-ebf5892b84fc>\u001b[0m in \u001b[0;36m<module>\u001b[1;34m()\u001b[0m\n\u001b[0;32m     22\u001b[0m \u001b[1;32mwhile\u001b[0m \u001b[0mframe\u001b[0m\u001b[1;33m:\u001b[0m\u001b[1;33m\u001b[0m\u001b[0m\n\u001b[0;32m     23\u001b[0m     \u001b[1;32mif\u001b[0m \u001b[0mfree_mem\u001b[0m \u001b[1;33m>\u001b[0m \u001b[1;36m0\u001b[0m\u001b[1;33m:\u001b[0m\u001b[1;33m\u001b[0m\u001b[0m\n\u001b[1;32m---> 24\u001b[1;33m         \u001b[0mser\u001b[0m\u001b[1;33m.\u001b[0m\u001b[0mwrite\u001b[0m\u001b[1;33m(\u001b[0m\u001b[0mframe\u001b[0m\u001b[1;33m)\u001b[0m\u001b[1;33m\u001b[0m\u001b[0m\n\u001b[0m\u001b[0;32m     25\u001b[0m         \u001b[0mtime\u001b[0m\u001b[1;33m.\u001b[0m\u001b[0msleep\u001b[0m\u001b[1;33m(\u001b[0m\u001b[1;36m1e-3\u001b[0m\u001b[1;33m)\u001b[0m\u001b[1;33m\u001b[0m\u001b[0m\n\u001b[0;32m     26\u001b[0m         \u001b[0mrec\u001b[0m \u001b[1;33m=\u001b[0m \u001b[0mser\u001b[0m\u001b[1;33m.\u001b[0m\u001b[0mread\u001b[0m\u001b[1;33m(\u001b[0m\u001b[0mresponse_size\u001b[0m\u001b[1;33m)\u001b[0m\u001b[1;33m.\u001b[0m\u001b[0mhex\u001b[0m\u001b[1;33m(\u001b[0m\u001b[1;33m)\u001b[0m\u001b[1;33m\u001b[0m\u001b[0m\n",
      "\u001b[1;32mC:\\ProgramData\\Anaconda3\\lib\\site-packages\\serial\\serialwin32.py\u001b[0m in \u001b[0;36mwrite\u001b[1;34m(self, data)\u001b[0m\n\u001b[0;32m    317\u001b[0m                 \u001b[1;31m# Wait for the write to complete.\u001b[0m\u001b[1;33m\u001b[0m\u001b[1;33m\u001b[0m\u001b[0m\n\u001b[0;32m    318\u001b[0m                 \u001b[1;31m#~ win32.WaitForSingleObject(self._overlapped_write.hEvent, win32.INFINITE)\u001b[0m\u001b[1;33m\u001b[0m\u001b[1;33m\u001b[0m\u001b[0m\n\u001b[1;32m--> 319\u001b[1;33m                 \u001b[0mwin32\u001b[0m\u001b[1;33m.\u001b[0m\u001b[0mGetOverlappedResult\u001b[0m\u001b[1;33m(\u001b[0m\u001b[0mself\u001b[0m\u001b[1;33m.\u001b[0m\u001b[0m_port_handle\u001b[0m\u001b[1;33m,\u001b[0m \u001b[0mself\u001b[0m\u001b[1;33m.\u001b[0m\u001b[0m_overlapped_write\u001b[0m\u001b[1;33m,\u001b[0m \u001b[0mctypes\u001b[0m\u001b[1;33m.\u001b[0m\u001b[0mbyref\u001b[0m\u001b[1;33m(\u001b[0m\u001b[0mn\u001b[0m\u001b[1;33m)\u001b[0m\u001b[1;33m,\u001b[0m \u001b[1;32mTrue\u001b[0m\u001b[1;33m)\u001b[0m\u001b[1;33m\u001b[0m\u001b[0m\n\u001b[0m\u001b[0;32m    320\u001b[0m                 \u001b[1;32mif\u001b[0m \u001b[0mwin32\u001b[0m\u001b[1;33m.\u001b[0m\u001b[0mGetLastError\u001b[0m\u001b[1;33m(\u001b[0m\u001b[1;33m)\u001b[0m \u001b[1;33m==\u001b[0m \u001b[0mwin32\u001b[0m\u001b[1;33m.\u001b[0m\u001b[0mERROR_OPERATION_ABORTED\u001b[0m\u001b[1;33m:\u001b[0m\u001b[1;33m\u001b[0m\u001b[0m\n\u001b[0;32m    321\u001b[0m                     \u001b[1;32mreturn\u001b[0m \u001b[0mn\u001b[0m\u001b[1;33m.\u001b[0m\u001b[0mvalue\u001b[0m  \u001b[1;31m# canceled IO is no error\u001b[0m\u001b[1;33m\u001b[0m\u001b[0m\n",
      "\u001b[1;31mKeyboardInterrupt\u001b[0m: "
     ]
    }
   ],
   "source": [
    "free_mem = 0\n",
    "response_size = 2\n",
    "\n",
    "wav = wave.open(f=str(wav_path / 'Finjark_Master_003.wav'), mode='rb')\n",
    "p = pyaudio.PyAudio()  \n",
    "#open stream  \n",
    "stream = p.open(format = p.get_format_from_width(wav.getsampwidth()),  \n",
    "                channels = wav.getnchannels(),  \n",
    "                rate = wav.getframerate(),  \n",
    "                output = True) \n",
    "\n",
    "\n",
    "ser.write(b'\\x7E')\n",
    "time.sleep(1e-3)\n",
    "rec = ser.read(response_size).hex()\n",
    "if rec == '':\n",
    "    raise TimeoutError('Timout reached')\n",
    "free_mem = int(rec, 16)\n",
    "frame = get_transmission_chunk(wav=wav, chunk_size=free_mem // wav.getsampwidth())\n",
    "\n",
    "#read data\n",
    "while frame:\n",
    "    if free_mem > 0:\n",
    "        ser.write(frame)\n",
    "        time.sleep(1e-3)\n",
    "        rec = ser.read(response_size).hex()\n",
    "        if rec == '':\n",
    "            raise TimeoutError('Timout reached')\n",
    "        free_mem = int(rec, 16)\n",
    "        frame = get_transmission_chunk(wav=wav, chunk_size=free_mem // wav.getsampwidth())\n",
    "    else:\n",
    "        print('FPGA Buffer full!!')\n",
    "        time.sleep(5e-3)\n",
    "        ser.write(b'\\x7E')\n",
    "        time.sleep(1e-3)\n",
    "        rec = ser.read(response_size).hex()\n",
    "        if rec == '':\n",
    "            raise TimeoutError('Timout reached')\n",
    "        free_mem = int(rec, 16)"
   ]
  },
  {
   "cell_type": "code",
   "execution_count": 40,
   "metadata": {
    "ExecuteTime": {
     "end_time": "2018-06-22T22:50:08.897309",
     "start_time": "2018-06-22T22:50:08.817309"
    },
    "collapsed": true
   },
   "outputs": [],
   "source": [
    "for byte in range(0,0x100,1):\n",
    "    ser.write(bytes([byte]))"
   ]
  },
  {
   "cell_type": "code",
   "execution_count": 82,
   "metadata": {
    "ExecuteTime": {
     "end_time": "2018-06-23T00:22:36.769815",
     "start_time": "2018-06-23T00:22:36.749815"
    }
   },
   "outputs": [
    {
     "data": {
      "text/plain": [
       "9879552"
      ]
     },
     "execution_count": 82,
     "metadata": {},
     "output_type": "execute_result"
    }
   ],
   "source": [
    "wav.getnframes()"
   ]
  },
  {
   "cell_type": "markdown",
   "metadata": {},
   "source": [
    "# Get decoded mp3 data"
   ]
  },
  {
   "cell_type": "markdown",
   "metadata": {},
   "source": [
    "# Check consistency of sent data"
   ]
  },
  {
   "cell_type": "markdown",
   "metadata": {},
   "source": [
    "## Function Definitions"
   ]
  },
  {
   "cell_type": "code",
   "execution_count": 95,
   "metadata": {
    "ExecuteTime": {
     "end_time": "2020-03-27T22:25:10.505389Z",
     "start_time": "2020-03-27T22:25:10.485395Z"
    },
    "collapsed": true
   },
   "outputs": [],
   "source": [
    "def comp_send_receive(rec_data, sent_data):\n",
    "    \"\"\"\n",
    "    Compare array rec_data with array sent_data.\n",
    "    rec_data is expected to consist of n times sent_data, where the first and\n",
    "    last occurence of sent_data might be incomplete.\n",
    "\n",
    "    Parameter:\n",
    "    ----------\n",
    "\n",
    "    rec_data (np.array):\n",
    "        Array which contains n-times sent_data,  where the first and\n",
    "        last occurence of sent_data might be incomplete.\n",
    "    \n",
    "    sent_data (np.array):\n",
    "        Array, which is the \"element\" of received_array\n",
    "\n",
    "    Return:\n",
    "    -------\n",
    "        True:   rec_data consists exclusivly of several occurences of sent_data\n",
    "        False:  -\"- vice versa\n",
    "    \"\"\"\n",
    "    offs = np.where(sent_data == rec_data[0])[0][0]\n",
    "    frame_len = len(sent_data)\n",
    "    len_start_frame = frame_len-offs\n",
    "\n",
    "    num_recvd_frames, len_end_frame = divmod(len(rec_data)-len_start_frame, frame_len)\n",
    "\n",
    "    equal = np.array_equal(rec_data[0:len_start_frame], sent_data[offs:])\n",
    "    for i in range(0, num_recvd_frames):\n",
    "        equal &= np.array_equal(rec_data[len_start_frame + i*frame_len: len_start_frame +i *frame_len + frame_len], sent_data)\n",
    "    if len_end_frame != 0:\n",
    "        equal &= np.array_equal(rec_data[len(rec_data)-len_end_frame:], sent_data[0:len_end_frame])\n",
    "\n",
    "    return equal"
   ]
  },
  {
   "cell_type": "code",
   "execution_count": null,
   "metadata": {
    "collapsed": true
   },
   "outputs": [],
   "source": [
    "df=pd.read_csv(r'..\\test\\debug_data.csv', sep=';',header=None)\n",
    "cmp_data = df.values\n",
    "df"
   ]
  },
  {
   "cell_type": "code",
   "execution_count": null,
   "metadata": {
    "collapsed": true
   },
   "outputs": [],
   "source": [
    "comp_send_receive(df.channel_0.values, np.arrange(np.arange(start=0x30, stop=0x40, step=1)))"
   ]
  },
  {
   "cell_type": "markdown",
   "metadata": {
    "collapsed": true
   },
   "source": [
    "# Debug"
   ]
  },
  {
   "cell_type": "code",
   "execution_count": 95,
   "metadata": {
    "ExecuteTime": {
     "end_time": "2018-06-23T00:35:55.200220",
     "start_time": "2018-06-23T00:35:55.180220"
    },
    "collapsed": true
   },
   "outputs": [],
   "source": [
    "a = b'\\x7E\\x7D'"
   ]
  },
  {
   "cell_type": "code",
   "execution_count": 99,
   "metadata": {
    "ExecuteTime": {
     "end_time": "2018-06-23T00:36:50.561298",
     "start_time": "2018-06-23T00:36:50.541298"
    }
   },
   "outputs": [
    {
     "data": {
      "text/plain": [
       "32381"
      ]
     },
     "execution_count": 99,
     "metadata": {},
     "output_type": "execute_result"
    }
   ],
   "source": [
    "int(a.hex(), 16)"
   ]
  },
  {
   "cell_type": "code",
   "execution_count": 62,
   "metadata": {
    "ExecuteTime": {
     "end_time": "2018-06-22T23:54:19.049438",
     "start_time": "2018-06-22T23:54:19.019438"
    }
   },
   "outputs": [
    {
     "data": {
      "text/plain": [
       "'7d5e7d5d'"
      ]
     },
     "execution_count": 62,
     "metadata": {},
     "output_type": "execute_result"
    }
   ],
   "source": [
    "a.replace(b'\\x7D', b'\\x7D\\x5D').replace(b'\\x7E', b'\\x7D\\x5E').hex()"
   ]
  },
  {
   "cell_type": "code",
   "execution_count": 55,
   "metadata": {
    "ExecuteTime": {
     "end_time": "2018-06-22T23:50:30.219118",
     "start_time": "2018-06-22T23:50:30.189118"
    }
   },
   "outputs": [
    {
     "data": {
      "text/plain": [
       "bytes"
      ]
     },
     "execution_count": 55,
     "metadata": {},
     "output_type": "execute_result"
    }
   ],
   "source": [
    "type(wav.readframes(chunk_size))"
   ]
  },
  {
   "cell_type": "code",
   "execution_count": 83,
   "metadata": {
    "ExecuteTime": {
     "end_time": "2018-06-23T00:26:10.652115",
     "start_time": "2018-06-23T00:26:10.622115"
    }
   },
   "outputs": [
    {
     "data": {
      "text/plain": [
       "0"
      ]
     },
     "execution_count": 83,
     "metadata": {},
     "output_type": "execute_result"
    }
   ],
   "source": [
    "ser.timeout"
   ]
  },
  {
   "cell_type": "code",
   "execution_count": 73,
   "metadata": {
    "ExecuteTime": {
     "end_time": "2018-06-23T00:03:55.334245",
     "start_time": "2018-06-23T00:03:55.304245"
    }
   },
   "outputs": [
    {
     "data": {
      "text/plain": [
       "'7e000000000000000000000000000000000000000000000000000000000000000000000000000000000000000000000000000000000000000000000000000000000000000000000000000000000000000000000000000000000000000000000000000000000000000000000000000000000000000000000000000000000000000000000000000000000000000000000000000000000000000000000000000000000000000000000000000000000000000000000000000000000000000000000000000000000000000000000000000000000000000000000000000000000000000000000000000000000000000000000000000000000000000000000000000000000000000000000000000000000000000000000000000000000000000000000000000000000000000000000000000000000000000000000000000000000000000000000000000000000000000000000000000000000000000000000000000000000000000000000000000000000000000000000000000000000000000000000000000000000000000000000000000000000000000000000000000000000000000000000000000000000000000000000000000000000000000000000000000000000000000000000000000000000000000000000000000000000000000000000000000000000000000000000000000000000000000000000000000000000000000000000000000000000000000000000000000000000000000000000000000000000000000000000000000000000000000000000000000000000000000000000000000000000000000000000000000000000000000000000000000000000000000000000000000000000000000000000000000000000000000000000000000000000000000000000000000000000000000000000000000000000000000000000000000000000000000000000000000000000000000000000000000000000000000000000000000000000000000000000000000000000000000000000000000000000000000000000000000000000000000000000000000000000000000000000000000000000000000000000000000000000000000000000000000000000000000000000000000000000000000000000000000000000000000000000000000000000000000000000000000000000000000000000000000000000000000000000000000000000000000000000000000000000000000000000000000000000000000000000000000000000000000000000000000000000000000000000000000000000000000000000000000000000000000000000000000000000000000000000000000000000000000000000000000000000000000000000000000000000000000000000000000000000000000000000000000000000000000000000000000000007e'"
      ]
     },
     "execution_count": 73,
     "metadata": {},
     "output_type": "execute_result"
    }
   ],
   "source": [
    "(b'\\x7E' + wav.readframes(chunk_size).replace(b'\\x7D', b'\\x7D\\x5D').replace(b'\\x7E', b'\\x7D\\x5E') + b'\\x7E').hex()"
   ]
  },
  {
   "cell_type": "code",
   "execution_count": 18,
   "metadata": {
    "collapsed": true
   },
   "outputs": [],
   "source": [
    "ser.close()"
   ]
  },
  {
   "cell_type": "code",
   "execution_count": 50,
   "metadata": {},
   "outputs": [
    {
     "data": {
      "text/plain": [
       "<wave.Wave_read at 0x293b5529048>"
      ]
     },
     "execution_count": 50,
     "metadata": {},
     "output_type": "execute_result"
    }
   ],
   "source": [
    "wav."
   ]
  },
  {
   "cell_type": "code",
   "execution_count": 96,
   "metadata": {
    "ExecuteTime": {
     "end_time": "2020-03-27T22:25:14.819430Z",
     "start_time": "2020-03-27T22:25:14.813432Z"
    },
    "collapsed": true
   },
   "outputs": [],
   "source": [
    "a = np.array([1, 2, 0, 1, 2, 0, 1, 2, 0, 1])\n",
    "b = np.array([0, 1, 2])\n",
    "c = np.array([1, 2, 0, 1, 2, 0, 1, 2, 0, 2])"
   ]
  },
  {
   "cell_type": "code",
   "execution_count": 99,
   "metadata": {
    "ExecuteTime": {
     "end_time": "2020-03-27T22:25:44.186601Z",
     "start_time": "2020-03-27T22:25:44.181611Z"
    },
    "scrolled": true
   },
   "outputs": [
    {
     "data": {
      "text/plain": [
       "True"
      ]
     },
     "execution_count": 99,
     "metadata": {},
     "output_type": "execute_result"
    }
   ],
   "source": [
    "comp_send_receive(rec_data=a, sent_data=b)"
   ]
  },
  {
   "cell_type": "code",
   "execution_count": 22,
   "metadata": {
    "ExecuteTime": {
     "end_time": "2020-03-27T21:50:00.899334Z",
     "start_time": "2020-03-27T21:50:00.893338Z"
    }
   },
   "outputs": [
    {
     "data": {
      "text/plain": [
       "(array([0, 3, 6], dtype=int64),)"
      ]
     },
     "execution_count": 22,
     "metadata": {},
     "output_type": "execute_result"
    }
   ],
   "source": [
    "np.where(c == 1)"
   ]
  },
  {
   "cell_type": "code",
   "execution_count": null,
   "metadata": {
    "collapsed": true
   },
   "outputs": [],
   "source": []
  }
 ],
 "metadata": {
  "kernelspec": {
   "display_name": "Python 3",
   "language": "python",
   "name": "python3"
  },
  "language_info": {
   "codemirror_mode": {
    "name": "ipython",
    "version": 3
   },
   "file_extension": ".py",
   "mimetype": "text/x-python",
   "name": "python",
   "nbconvert_exporter": "python",
   "pygments_lexer": "ipython3",
   "version": "3.6.3"
  },
  "nav_menu": {},
  "toc": {
   "nav_menu": {},
   "number_sections": true,
   "sideBar": true,
   "skip_h1_title": false,
   "toc_cell": true,
   "toc_position": {
    "height": "calc(100% - 180px)",
    "left": "10px",
    "top": "150px",
    "width": "294px"
   },
   "toc_section_display": true,
   "toc_window_display": true
  },
  "toc_section_display": "block",
  "toc_window_display": true,
  "version": "3.5.2"
 },
 "nbformat": 4,
 "nbformat_minor": 2
}
